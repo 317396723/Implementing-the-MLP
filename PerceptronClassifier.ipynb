{
 "cells": [
  {
   "cell_type": "markdown",
   "metadata": {},
   "source": [
    "# COMP47590: Advanced Machine Learning\n",
    "# Assignment 1: Implementing Perceptrons"
   ]
  },
  {
   "cell_type": "markdown",
   "metadata": {},
   "source": [
    "- Student Name: Shuhao Guan\n",
    "- Student Number: 20211120"
   ]
  },
  {
   "cell_type": "markdown",
   "metadata": {},
   "source": [
    "## Import Packages"
   ]
  },
  {
   "cell_type": "code",
   "execution_count": 1,
   "metadata": {},
   "outputs": [],
   "source": [
    "import pandas as pd\n",
    "import numpy as np\n",
    "import matplotlib.pyplot as plt\n",
    "%matplotlib inline\n",
    "from sklearn.model_selection import cross_validate\n",
    "import math\n",
    "from sklearn import neural_network\n",
    "from sklearn.model_selection import GridSearchCV\n",
    "from sklearn.model_selection import cross_val_score\n",
    "from sklearn.model_selection import train_test_split\n",
    "from sklearn.base import BaseEstimator, ClassifierMixin\n",
    "from sklearn.utils.validation import check_X_y, check_array, check_is_fitted, check_random_state\n",
    "from sklearn.utils.multiclass import unique_labels\n",
    "from sklearn import preprocessing\n",
    "from sklearn import metrics\n",
    "from sklearn.model_selection import GridSearchCV\n",
    "from sklearn.model_selection import cross_val_score\n",
    "from sklearn.model_selection import train_test_split\n",
    "from sklearn.utils import resample\n",
    "import tensorflow as tf\n",
    "import tensorflow.keras\n",
    "from sklearn.model_selection import cross_validate"
   ]
  },
  {
   "cell_type": "markdown",
   "metadata": {},
   "source": [
    "## Task 1: The Perceptron Classifier"
   ]
  },
  {
   "cell_type": "markdown",
   "metadata": {},
   "source": [
    "Define the PerceptronClassifier class"
   ]
  },
  {
   "cell_type": "code",
   "execution_count": 2,
   "metadata": {},
   "outputs": [],
   "source": [
    "class PerceptronClassifier(BaseEstimator, ClassifierMixin):\n",
    "    def __init__(self, layers, activation='sigmoid',learning_rate=0.1, epochs=40000,l2=None):\n",
    "        self.activation=activation\n",
    "        self.activation_deriv=activation+'_deriv'\n",
    "        self.layers=layers\n",
    "        self.learning_rate=learning_rate\n",
    "        self.epochs=epochs\n",
    "        self.l2=l2\n",
    "        if l2==None:\n",
    "            self.l2=0\n",
    "        self.weights = []  \n",
    "        self.b=[]\n",
    "        for i in range(1, len(layers) - 1):  #Set the initial weight\n",
    "            self.b.append(np.random.randn(1 , layers[i] ))\n",
    "            self.weights.append(np.random.randn(layers[i - 1] , layers[i] )/np.sqrt(layers[i-1]) )  \n",
    "            #The gaussian distribution generates a random matrix \n",
    "        self.weights.append(np.random.randn(layers[i] , layers[i + 1]))\n",
    "        self.b.append(np.random.randn(1 , layers[i + 1]))\n",
    "        \n",
    "    def sigmoid(self,x):\n",
    "        return .5 * (1 + np.tanh(.5 * x))\n",
    "#         return 1/(1 + np.exp(-x))\n",
    "    def sigmoid_deriv(self,x):  \n",
    "        return x*(1-x)\n",
    "    def tanh(self,x):  \n",
    "        return  np.tanh(x)   \n",
    "    def tanh_deriv(self,x):  \n",
    "        return (1+(x))*(1-(x))\n",
    "        \n",
    "    # The fit function to train a classifier\n",
    "    def fit(self, X, y):         \n",
    "        X = np.atleast_2d(X)                 \n",
    "        y = np.array(y)\n",
    "        for k in range(self.epochs):  #epchos represents the number of iterations\n",
    "            i = np.random.randint(X.shape[0])   \n",
    "            #Randomly select any one sample point in the sample\n",
    "            a = [X[i]]\n",
    "    \n",
    "            for l in range(len(self.weights)):  \n",
    "            #Feed-forward neural network, calculating the value of each neuron\n",
    "                a.append(eval('PerceptronClassifier.'+self.activation)(self,np.dot(a[l], self.weights[l])+self.b[l]))  \n",
    "                #Compute the l+1 layer neuron parameters from the l layer, a(l+1)=f(x(l)W(l)),where f is the activation function\n",
    "            error = y[i] - a[-1]  #Calculate the error in the last layer\n",
    "#             print('error:',error)\n",
    "            deltas = [error * eval('PerceptronClassifier.'+self.activation_deriv)(self,a[-1])]\n",
    "            #Start BP algorithm\n",
    "            for l in range(len(a) - 2, 0, -1): \n",
    "                # Calculate delta from the penultimate level \n",
    "                deltas.append(deltas[-1].dot(self.weights[l].T)*eval('PerceptronClassifier.'+self.activation)(self,a[l]))  \n",
    "                #delta(l)=(delta(l+1)*W(l)^T).*h(a(l))\n",
    "            deltas.reverse()  #Arrange delta in order of feedforward neural network\n",
    "            for i in range(len(self.weights)):  \n",
    "                layer =np.atleast_2d(a[i])\n",
    "                delta = np.atleast_2d(deltas[i]) \n",
    "                self.weights[i] = self.weights[i]+self.learning_rate * (layer.T.dot(delta)+self.l2*self.weights[i])\n",
    "                self.b[i]=self.b[i]+self.learning_rate * (delta+self.l2*self.b[i])#The partial derivative of the layer update is the transpose rank of a[i] * delta[i]  \n",
    "        \n",
    "    # The predict_proba function to make a set of predictions for a set of query instances. This returns a set of class distributions.\n",
    "    def predict_proba(self, x):\n",
    "        x = np.array(x)         \n",
    "        a=x\n",
    "        for l in range(0, len(self.weights)):             \n",
    "            a = eval('PerceptronClassifier.'+self.activation)(self,np.dot(a, self.weights[l])+self.b[l])         \n",
    "        return a\n",
    "\n",
    "    # The predict function to make a set of predictions for a set of query instances\n",
    "    def predict(self, x):\n",
    "        yy=self.predict_proba(x)\n",
    "        for i in range(len(yy)):\n",
    "            if yy[i][0]>yy[i][1]:\n",
    "                yy[i][0]=1\n",
    "                yy[i][1]=0\n",
    "            else:\n",
    "                yy[i][0]=0\n",
    "                yy[i][1]=1\n",
    "        return yy\n"
   ]
  },
  {
   "cell_type": "markdown",
   "metadata": {},
   "source": [
    "## Task 2: Evaluation"
   ]
  },
  {
   "cell_type": "markdown",
   "metadata": {},
   "source": [
    "Load the Diabethic Retinopathy dataset"
   ]
  },
  {
   "cell_type": "code",
   "execution_count": 3,
   "metadata": {},
   "outputs": [],
   "source": [
    "data=pd.read_csv('messidor_features.csv')"
   ]
  },
  {
   "cell_type": "markdown",
   "metadata": {},
   "source": [
    "Pre-processing the data."
   ]
  },
  {
   "cell_type": "code",
   "execution_count": 4,
   "metadata": {},
   "outputs": [],
   "source": [
    "Y = data.pop('Class')\n",
    "X = data\n",
    "Y_=list(set(Y))\n",
    "for i in range(len(Y)):\n",
    "    if Y[i]==Y_[0]:\n",
    "        Y[i]=0\n",
    "    else:\n",
    "        Y[i]=1\n",
    "X=np.array(X)\n",
    "Y=np.array(Y)\n",
    "z_scaler = preprocessing.StandardScaler()\n",
    "X = z_scaler.fit_transform(X)\n",
    "Y = tensorflow.keras.utils.to_categorical(Y, len(set(Y)))\n",
    "Y=Y.astype(int)"
   ]
  },
  {
   "cell_type": "markdown",
   "metadata": {},
   "source": [
    "Split the data into a **training set** and **test set**"
   ]
  },
  {
   "cell_type": "code",
   "execution_count": 5,
   "metadata": {},
   "outputs": [],
   "source": [
    "X_train, X_test, y_train, y_test \\\n",
    "    = train_test_split(X, Y, \\\n",
    "                       shuffle=True, \\\n",
    "                       stratify = Y, \\\n",
    "                       train_size = 0.7)"
   ]
  },
  {
   "cell_type": "markdown",
   "metadata": {},
   "source": [
    "### My PerceptronClassifier"
   ]
  },
  {
   "cell_type": "code",
   "execution_count": 6,
   "metadata": {},
   "outputs": [],
   "source": [
    "MY_MLP1=PerceptronClassifier([19,300,100,2], 'sigmoid',0.01,80000,0)\n",
    "MY_MLP1.fit(X_train,y_train)"
   ]
  },
  {
   "cell_type": "markdown",
   "metadata": {},
   "source": [
    "Assess the performance on the training set"
   ]
  },
  {
   "cell_type": "code",
   "execution_count": 7,
   "metadata": {},
   "outputs": [],
   "source": [
    "# Make a set of predictions for the training data\n",
    "y_pred = MY_MLP1.predict(X_train)\n",
    "accuracy = metrics.accuracy_score(y_train, y_pred)"
   ]
  },
  {
   "cell_type": "code",
   "execution_count": 8,
   "metadata": {},
   "outputs": [
    {
     "name": "stdout",
     "output_type": "stream",
     "text": [
      "Accuracy: 0.7490683229813665\n",
      "              precision    recall  f1-score   support\n",
      "\n",
      "           0       0.72      0.75      0.74       378\n",
      "           1       0.77      0.74      0.76       427\n",
      "\n",
      "   micro avg       0.75      0.75      0.75       805\n",
      "   macro avg       0.75      0.75      0.75       805\n",
      "weighted avg       0.75      0.75      0.75       805\n",
      " samples avg       0.75      0.75      0.75       805\n",
      "\n"
     ]
    }
   ],
   "source": [
    "print(\"Accuracy: \" +  str(accuracy))\n",
    "print(metrics.classification_report(y_train, y_pred))"
   ]
  },
  {
   "cell_type": "markdown",
   "metadata": {},
   "source": [
    "Assess the performance on the test set"
   ]
  },
  {
   "cell_type": "code",
   "execution_count": 9,
   "metadata": {},
   "outputs": [],
   "source": [
    "# Make a set of predictions for the training data\n",
    "y_pred = MY_MLP1.predict(X_test)\n",
    "accuracy = metrics.accuracy_score(y_test, y_pred)"
   ]
  },
  {
   "cell_type": "code",
   "execution_count": 10,
   "metadata": {},
   "outputs": [
    {
     "name": "stdout",
     "output_type": "stream",
     "text": [
      "Accuracy: 0.7167630057803468\n",
      "              precision    recall  f1-score   support\n",
      "\n",
      "           0       0.68      0.73      0.71       162\n",
      "           1       0.75      0.70      0.72       184\n",
      "\n",
      "   micro avg       0.72      0.72      0.72       346\n",
      "   macro avg       0.72      0.72      0.72       346\n",
      "weighted avg       0.72      0.72      0.72       346\n",
      " samples avg       0.72      0.72      0.72       346\n",
      "\n"
     ]
    }
   ],
   "source": [
    "print(\"Accuracy: \" +  str(accuracy))\n",
    "print(metrics.classification_report(y_test, y_pred))"
   ]
  },
  {
   "cell_type": "markdown",
   "metadata": {},
   "source": [
    "Evaluate the perfomrance of the perceptron classifier on the daibetic retinopathy dataset with cross validate."
   ]
  },
  {
   "cell_type": "code",
   "execution_count": 11,
   "metadata": {},
   "outputs": [
    {
     "name": "stdout",
     "output_type": "stream",
     "text": [
      "{'fit_time': array([22.15905643, 22.2041688 , 22.3154428 , 22.29046607, 22.6674161 ]), 'score_time': array([0.00598431, 0.00299263, 0.00398993, 0.00299168, 0.00299144]), 'test_score': array([0.74458874, 0.7       , 0.70869565, 0.70869565, 0.74782609]), 'train_score': array([0.75434783, 0.74049946, 0.7339848 , 0.69489685, 0.7752443 ])}\n"
     ]
    }
   ],
   "source": [
    "# MY_MLP\n",
    "MY_MLP=PerceptronClassifier([19,300,100,2], 'sigmoid',0.01,80000,0)\n",
    "scores1 = cross_validate(MY_MLP, X, Y,cv=5,return_train_score=True)\n",
    "print(scores1)"
   ]
  },
  {
   "cell_type": "code",
   "execution_count": 12,
   "metadata": {},
   "outputs": [
    {
     "name": "stdout",
     "output_type": "stream",
     "text": [
      "The mean score of my MLP model in cross validation is 0.7219612271786185\n"
     ]
    }
   ],
   "source": [
    "print('The mean score of my MLP model in cross validation is '+str(scores1['test_score'].mean()))"
   ]
  },
  {
   "cell_type": "markdown",
   "metadata": {},
   "source": [
    "### Sklearn PerceptronClassifier"
   ]
  },
  {
   "cell_type": "code",
   "execution_count": 13,
   "metadata": {},
   "outputs": [
    {
     "data": {
      "text/plain": [
       "MLPClassifier(activation='logistic', hidden_layer_sizes=(300, 100),\n",
       "              learning_rate_init=0.01, max_iter=80000)"
      ]
     },
     "execution_count": 13,
     "metadata": {},
     "output_type": "execute_result"
    }
   ],
   "source": [
    "SK_MLP = neural_network.MLPClassifier(hidden_layer_sizes=(300, 100),max_iter=80000,learning_rate_init=0.01,activation='logistic')\n",
    "SK_MLP.fit(X_train,y_train)"
   ]
  },
  {
   "cell_type": "markdown",
   "metadata": {},
   "source": [
    "Assess the performance on the training set"
   ]
  },
  {
   "cell_type": "code",
   "execution_count": 14,
   "metadata": {},
   "outputs": [],
   "source": [
    "# Make a set of predictions for the training data\n",
    "y_pred = SK_MLP.predict(X_train)\n",
    "accuracy = metrics.accuracy_score(y_train, y_pred)"
   ]
  },
  {
   "cell_type": "code",
   "execution_count": 15,
   "metadata": {},
   "outputs": [
    {
     "name": "stdout",
     "output_type": "stream",
     "text": [
      "Accuracy: 0.6645962732919255\n",
      "              precision    recall  f1-score   support\n",
      "\n",
      "           0       0.59      0.94      0.73       378\n",
      "           1       0.88      0.45      0.60       427\n",
      "\n",
      "   micro avg       0.67      0.68      0.68       805\n",
      "   macro avg       0.74      0.70      0.66       805\n",
      "weighted avg       0.75      0.68      0.66       805\n",
      " samples avg       0.67      0.68      0.68       805\n",
      "\n"
     ]
    }
   ],
   "source": [
    "print(\"Accuracy: \" +  str(accuracy))\n",
    "print(metrics.classification_report(y_train, y_pred))"
   ]
  },
  {
   "cell_type": "markdown",
   "metadata": {},
   "source": [
    "Assess the performance on the test set"
   ]
  },
  {
   "cell_type": "code",
   "execution_count": 16,
   "metadata": {},
   "outputs": [],
   "source": [
    "# Make a set of predictions for the training data\n",
    "y_pred = SK_MLP.predict(X_test)\n",
    "accuracy = metrics.accuracy_score(y_test, y_pred)"
   ]
  },
  {
   "cell_type": "code",
   "execution_count": 17,
   "metadata": {},
   "outputs": [
    {
     "name": "stdout",
     "output_type": "stream",
     "text": [
      "Accuracy: 0.6647398843930635\n",
      "              precision    recall  f1-score   support\n",
      "\n",
      "           0       0.60      0.93      0.72       162\n",
      "           1       0.86      0.46      0.60       184\n",
      "\n",
      "   micro avg       0.67      0.68      0.67       346\n",
      "   macro avg       0.73      0.69      0.66       346\n",
      "weighted avg       0.73      0.68      0.66       346\n",
      " samples avg       0.67      0.68      0.67       346\n",
      "\n"
     ]
    }
   ],
   "source": [
    "print(\"Accuracy: \" +  str(accuracy))\n",
    "print(metrics.classification_report(y_test, y_pred))"
   ]
  },
  {
   "cell_type": "markdown",
   "metadata": {},
   "source": [
    "Evaluate the perfomrance of the perceptron classifier on the daibetic retinopathy dataset with cross validate."
   ]
  },
  {
   "cell_type": "code",
   "execution_count": 18,
   "metadata": {},
   "outputs": [
    {
     "name": "stdout",
     "output_type": "stream",
     "text": [
      "{'fit_time': array([1.53190494, 1.3354311 , 1.36734533, 1.67252946, 2.3148129 ]), 'score_time': array([0.00199461, 0.00199437, 0.00199437, 0.00199461, 0.00199485]), 'test_score': array([0.76190476, 0.73913043, 0.73913043, 0.73043478, 0.74347826]), 'train_score': array([0.81521739, 0.81758958, 0.82301846, 0.84907709, 0.88925081])}\n"
     ]
    }
   ],
   "source": [
    "# SK_MLP\n",
    "SK_MLP = neural_network.MLPClassifier(hidden_layer_sizes=(300, 100),max_iter=80000,learning_rate_init=0.01,activation='logistic')\n",
    "scores2 = cross_validate(SK_MLP, X, Y,cv=5,return_train_score=True)\n",
    "print(scores2)"
   ]
  },
  {
   "cell_type": "code",
   "execution_count": 19,
   "metadata": {},
   "outputs": [
    {
     "name": "stdout",
     "output_type": "stream",
     "text": [
      "The mean score of sklearn MLP model in cross validation is 0.7428157349896479\n"
     ]
    }
   ],
   "source": [
    "print('The mean score of sklearn MLP model in cross validation is '+str(scores2['test_score'].mean()))"
   ]
  },
  {
   "cell_type": "markdown",
   "metadata": {},
   "source": [
    "## Task 3 & 4: Add Different Activations & Regularisation"
   ]
  },
  {
   "cell_type": "markdown",
   "metadata": {},
   "source": [
    "Reimplement the PerceptronClassifier class adding an activation function option and L2 regularisation. "
   ]
  },
  {
   "cell_type": "code",
   "execution_count": 20,
   "metadata": {},
   "outputs": [],
   "source": [
    "class PerceptronClassifier(BaseEstimator, ClassifierMixin):\n",
    "    def __init__(self, layers=[19,1,2], activation='sigmoid',learning_rate=0.1, epochs=40000,l2=None):\n",
    "        self.activation=activation\n",
    "        self.activation_deriv=activation+'_deriv'\n",
    "        self.layers=layers\n",
    "        self.learning_rate=learning_rate\n",
    "        self.epochs=epochs\n",
    "        self.l2=l2\n",
    "        if l2==None:\n",
    "            self.l2=0\n",
    "        self.weights = []  \n",
    "        self.b=[]\n",
    "        for i in range(1, len(layers) - 1):  #Set the initial weight\n",
    "            self.b.append(np.random.randn(1 , layers[i] ))\n",
    "            self.weights.append(np.random.randn(layers[i - 1] , layers[i] )/np.sqrt(layers[i-1]) )  \n",
    "            #The gaussian distribution generates a random matrix \n",
    "        self.weights.append(np.random.randn(layers[i] , layers[i + 1]))\n",
    "        self.b.append(np.random.randn(1 , layers[i + 1]))\n",
    "        \n",
    "    def sigmoid(self,x):\n",
    "        return .5 * (1 + np.tanh(.5 * x))\n",
    "#         return 1/(1 + np.exp(-x))\n",
    "    def sigmoid_deriv(self,x):  \n",
    "        return x*(1-x)\n",
    "    def tanh(self,x):  \n",
    "        return  np.tanh(x)   \n",
    "    def tanh_deriv(self,x):  \n",
    "        return (1+(x))*(1-(x))\n",
    "        \n",
    "    # The fit function to train a classifier\n",
    "    def fit(self, X, y):         \n",
    "        X = np.atleast_2d(X)                 \n",
    "        y = np.array(y)\n",
    "        for k in range(self.epochs):  #epchos represents the number of iterations\n",
    "            i = np.random.randint(X.shape[0])   \n",
    "            #Randomly select any one sample point in the sample\n",
    "            a = [X[i]]\n",
    "    \n",
    "            for l in range(len(self.weights)):  \n",
    "            #Feed-forward neural network, calculating the value of each neuron\n",
    "                a.append(eval('PerceptronClassifier.'+self.activation)(self,np.dot(a[l], self.weights[l])+self.b[l]))  \n",
    "                #Compute the l+1 layer neuron parameters from the l layer, a(l+1)=f(x(l)W(l)),where f is the activation function\n",
    "            error = y[i] - a[-1]  #Calculate the error in the last layer\n",
    "#             print('error:',error)\n",
    "            deltas = [error * eval('PerceptronClassifier.'+self.activation_deriv)(self,a[-1])]\n",
    "            #Start BP algorithm\n",
    "            for l in range(len(a) - 2, 0, -1): \n",
    "                # Calculate delta from the penultimate level \n",
    "                deltas.append(deltas[-1].dot(self.weights[l].T)*eval('PerceptronClassifier.'+self.activation)(self,a[l]))  \n",
    "                #delta(l)=(delta(l+1)*W(l)^T).*h(a(l))\n",
    "            deltas.reverse()  #Arrange delta in order of feedforward neural network\n",
    "            for i in range(len(self.weights)):  \n",
    "                layer =np.atleast_2d(a[i])\n",
    "                delta = np.atleast_2d(deltas[i]) \n",
    "                self.weights[i] = self.weights[i]+self.learning_rate * (layer.T.dot(delta)+self.l2*self.weights[i])\n",
    "                self.b[i]=self.b[i]+self.learning_rate * (delta+self.l2*self.b[i])\n",
    "                #The partial derivative of the layer update is the transpose rank of a[i] * delta[i]  \n",
    "        \n",
    "    # The predict_proba function to make a set of predictions for a set of query instances. This returns a set of class distributions.\n",
    "    def predict_proba(self, x):\n",
    "        x = np.array(x)         \n",
    "        a=x\n",
    "        for l in range(0, len(self.weights)):             \n",
    "            a = eval('PerceptronClassifier.'+self.activation)(self,np.dot(a, self.weights[l])+self.b[l])         \n",
    "        return a\n",
    "\n",
    "    # The predict function to make a set of predictions for a set of query instances\n",
    "    def predict(self, x):\n",
    "        yy=self.predict_proba(x)\n",
    "        for i in range(len(yy)):\n",
    "            if yy[i][0]>yy[i][1]:\n",
    "                yy[i][0]=1\n",
    "                yy[i][1]=0\n",
    "            else:\n",
    "                yy[i][0]=0\n",
    "                yy[i][1]=1\n",
    "        return yy"
   ]
  },
  {
   "cell_type": "markdown",
   "metadata": {},
   "source": [
    "## Task 5: Reflect on the Performance of the Different Models Evaluated"
   ]
  },
  {
   "cell_type": "markdown",
   "metadata": {},
   "source": [
    "Perform hyper-parameter tuning and evaluate models. "
   ]
  },
  {
   "cell_type": "code",
   "execution_count": 27,
   "metadata": {},
   "outputs": [
    {
     "name": "stdout",
     "output_type": "stream",
     "text": [
      "Fitting 5 folds for each of 108 candidates, totalling 540 fits\n",
      "[CV] END activation=sigmoid, epochs=80000, l2=0.0001, layers=[19, 30, 20, 2], learning_rate=0.01; total time=   6.2s\n",
      "[CV] END activation=sigmoid, epochs=80000, l2=0.0001, layers=[19, 30, 20, 2], learning_rate=0.01; total time=   6.2s\n",
      "[CV] END activation=sigmoid, epochs=80000, l2=0.0001, layers=[19, 30, 20, 2], learning_rate=0.01; total time=   6.2s\n",
      "[CV] END activation=sigmoid, epochs=80000, l2=0.0001, layers=[19, 30, 20, 2], learning_rate=0.01; total time=   6.2s\n",
      "[CV] END activation=sigmoid, epochs=80000, l2=0.0001, layers=[19, 30, 20, 2], learning_rate=0.01; total time=   6.2s\n",
      "[CV] END activation=sigmoid, epochs=80000, l2=0.0001, layers=[19, 30, 20, 2], learning_rate=0.05; total time=   6.1s\n",
      "[CV] END activation=sigmoid, epochs=80000, l2=0.0001, layers=[19, 30, 20, 2], learning_rate=0.05; total time=   6.1s\n",
      "[CV] END activation=sigmoid, epochs=80000, l2=0.0001, layers=[19, 30, 20, 2], learning_rate=0.05; total time=   6.1s\n",
      "[CV] END activation=sigmoid, epochs=80000, l2=0.0001, layers=[19, 30, 20, 2], learning_rate=0.05; total time=   6.1s\n",
      "[CV] END activation=sigmoid, epochs=80000, l2=0.0001, layers=[19, 30, 20, 2], learning_rate=0.05; total time=   6.1s\n",
      "[CV] END activation=sigmoid, epochs=80000, l2=0.0001, layers=[19, 30, 20, 2], learning_rate=0.1; total time=   6.1s\n",
      "[CV] END activation=sigmoid, epochs=80000, l2=0.0001, layers=[19, 30, 20, 2], learning_rate=0.1; total time=   6.1s\n",
      "[CV] END activation=sigmoid, epochs=80000, l2=0.0001, layers=[19, 30, 20, 2], learning_rate=0.1; total time=   6.1s\n",
      "[CV] END activation=sigmoid, epochs=80000, l2=0.0001, layers=[19, 30, 20, 2], learning_rate=0.1; total time=   6.1s\n",
      "[CV] END activation=sigmoid, epochs=80000, l2=0.0001, layers=[19, 30, 20, 2], learning_rate=0.1; total time=   6.1s\n",
      "[CV] END activation=sigmoid, epochs=80000, l2=0.0001, layers=[19, 300, 100, 2], learning_rate=0.01; total time=   6.0s\n",
      "[CV] END activation=sigmoid, epochs=80000, l2=0.0001, layers=[19, 300, 100, 2], learning_rate=0.01; total time=   6.0s\n",
      "[CV] END activation=sigmoid, epochs=80000, l2=0.0001, layers=[19, 300, 100, 2], learning_rate=0.01; total time=   6.1s\n",
      "[CV] END activation=sigmoid, epochs=80000, l2=0.0001, layers=[19, 300, 100, 2], learning_rate=0.01; total time=   6.0s\n",
      "[CV] END activation=sigmoid, epochs=80000, l2=0.0001, layers=[19, 300, 100, 2], learning_rate=0.01; total time=   6.3s\n",
      "[CV] END activation=sigmoid, epochs=80000, l2=0.0001, layers=[19, 300, 100, 2], learning_rate=0.05; total time=   6.1s\n",
      "[CV] END activation=sigmoid, epochs=80000, l2=0.0001, layers=[19, 300, 100, 2], learning_rate=0.05; total time=   6.3s\n",
      "[CV] END activation=sigmoid, epochs=80000, l2=0.0001, layers=[19, 300, 100, 2], learning_rate=0.05; total time=   7.1s\n",
      "[CV] END activation=sigmoid, epochs=80000, l2=0.0001, layers=[19, 300, 100, 2], learning_rate=0.05; total time=   6.5s\n",
      "[CV] END activation=sigmoid, epochs=80000, l2=0.0001, layers=[19, 300, 100, 2], learning_rate=0.05; total time=   6.9s\n",
      "[CV] END activation=sigmoid, epochs=80000, l2=0.0001, layers=[19, 300, 100, 2], learning_rate=0.1; total time=   7.8s\n",
      "[CV] END activation=sigmoid, epochs=80000, l2=0.0001, layers=[19, 300, 100, 2], learning_rate=0.1; total time=   7.1s\n",
      "[CV] END activation=sigmoid, epochs=80000, l2=0.0001, layers=[19, 300, 100, 2], learning_rate=0.1; total time=   6.3s\n",
      "[CV] END activation=sigmoid, epochs=80000, l2=0.0001, layers=[19, 300, 100, 2], learning_rate=0.1; total time=   6.6s\n",
      "[CV] END activation=sigmoid, epochs=80000, l2=0.0001, layers=[19, 300, 100, 2], learning_rate=0.1; total time=   6.3s\n",
      "[CV] END activation=sigmoid, epochs=80000, l2=0.0001, layers=[19, 20, 2], learning_rate=0.01; total time=   6.7s\n",
      "[CV] END activation=sigmoid, epochs=80000, l2=0.0001, layers=[19, 20, 2], learning_rate=0.01; total time=   6.4s\n",
      "[CV] END activation=sigmoid, epochs=80000, l2=0.0001, layers=[19, 20, 2], learning_rate=0.01; total time=   6.2s\n",
      "[CV] END activation=sigmoid, epochs=80000, l2=0.0001, layers=[19, 20, 2], learning_rate=0.01; total time=   6.7s\n",
      "[CV] END activation=sigmoid, epochs=80000, l2=0.0001, layers=[19, 20, 2], learning_rate=0.01; total time=   7.4s\n",
      "[CV] END activation=sigmoid, epochs=80000, l2=0.0001, layers=[19, 20, 2], learning_rate=0.05; total time=   6.4s\n",
      "[CV] END activation=sigmoid, epochs=80000, l2=0.0001, layers=[19, 20, 2], learning_rate=0.05; total time=   7.0s\n",
      "[CV] END activation=sigmoid, epochs=80000, l2=0.0001, layers=[19, 20, 2], learning_rate=0.05; total time=   7.1s\n",
      "[CV] END activation=sigmoid, epochs=80000, l2=0.0001, layers=[19, 20, 2], learning_rate=0.05; total time=   6.3s\n",
      "[CV] END activation=sigmoid, epochs=80000, l2=0.0001, layers=[19, 20, 2], learning_rate=0.05; total time=   6.4s\n",
      "[CV] END activation=sigmoid, epochs=80000, l2=0.0001, layers=[19, 20, 2], learning_rate=0.1; total time=   6.3s\n",
      "[CV] END activation=sigmoid, epochs=80000, l2=0.0001, layers=[19, 20, 2], learning_rate=0.1; total time=   6.2s\n",
      "[CV] END activation=sigmoid, epochs=80000, l2=0.0001, layers=[19, 20, 2], learning_rate=0.1; total time=   6.4s\n",
      "[CV] END activation=sigmoid, epochs=80000, l2=0.0001, layers=[19, 20, 2], learning_rate=0.1; total time=   6.4s\n",
      "[CV] END activation=sigmoid, epochs=80000, l2=0.0001, layers=[19, 20, 2], learning_rate=0.1; total time=   6.4s\n",
      "[CV] END activation=sigmoid, epochs=80000, l2=0.001, layers=[19, 30, 20, 2], learning_rate=0.01; total time=   6.4s\n",
      "[CV] END activation=sigmoid, epochs=80000, l2=0.001, layers=[19, 30, 20, 2], learning_rate=0.01; total time=   6.4s\n",
      "[CV] END activation=sigmoid, epochs=80000, l2=0.001, layers=[19, 30, 20, 2], learning_rate=0.01; total time=   6.4s\n",
      "[CV] END activation=sigmoid, epochs=80000, l2=0.001, layers=[19, 30, 20, 2], learning_rate=0.01; total time=   6.3s\n",
      "[CV] END activation=sigmoid, epochs=80000, l2=0.001, layers=[19, 30, 20, 2], learning_rate=0.01; total time=   6.2s\n",
      "[CV] END activation=sigmoid, epochs=80000, l2=0.001, layers=[19, 30, 20, 2], learning_rate=0.05; total time=   6.2s\n",
      "[CV] END activation=sigmoid, epochs=80000, l2=0.001, layers=[19, 30, 20, 2], learning_rate=0.05; total time=   6.3s\n",
      "[CV] END activation=sigmoid, epochs=80000, l2=0.001, layers=[19, 30, 20, 2], learning_rate=0.05; total time=   6.4s\n",
      "[CV] END activation=sigmoid, epochs=80000, l2=0.001, layers=[19, 30, 20, 2], learning_rate=0.05; total time=   6.4s\n",
      "[CV] END activation=sigmoid, epochs=80000, l2=0.001, layers=[19, 30, 20, 2], learning_rate=0.05; total time=   6.4s\n",
      "[CV] END activation=sigmoid, epochs=80000, l2=0.001, layers=[19, 30, 20, 2], learning_rate=0.1; total time=   6.3s\n",
      "[CV] END activation=sigmoid, epochs=80000, l2=0.001, layers=[19, 30, 20, 2], learning_rate=0.1; total time=   6.3s\n",
      "[CV] END activation=sigmoid, epochs=80000, l2=0.001, layers=[19, 30, 20, 2], learning_rate=0.1; total time=   6.3s\n",
      "[CV] END activation=sigmoid, epochs=80000, l2=0.001, layers=[19, 30, 20, 2], learning_rate=0.1; total time=   6.3s\n",
      "[CV] END activation=sigmoid, epochs=80000, l2=0.001, layers=[19, 30, 20, 2], learning_rate=0.1; total time=   6.4s\n",
      "[CV] END activation=sigmoid, epochs=80000, l2=0.001, layers=[19, 300, 100, 2], learning_rate=0.01; total time=   6.4s\n",
      "[CV] END activation=sigmoid, epochs=80000, l2=0.001, layers=[19, 300, 100, 2], learning_rate=0.01; total time=   7.0s\n",
      "[CV] END activation=sigmoid, epochs=80000, l2=0.001, layers=[19, 300, 100, 2], learning_rate=0.01; total time=   6.6s\n",
      "[CV] END activation=sigmoid, epochs=80000, l2=0.001, layers=[19, 300, 100, 2], learning_rate=0.01; total time=   6.6s\n",
      "[CV] END activation=sigmoid, epochs=80000, l2=0.001, layers=[19, 300, 100, 2], learning_rate=0.01; total time=   6.6s\n",
      "[CV] END activation=sigmoid, epochs=80000, l2=0.001, layers=[19, 300, 100, 2], learning_rate=0.05; total time=   6.6s\n",
      "[CV] END activation=sigmoid, epochs=80000, l2=0.001, layers=[19, 300, 100, 2], learning_rate=0.05; total time=   6.6s\n",
      "[CV] END activation=sigmoid, epochs=80000, l2=0.001, layers=[19, 300, 100, 2], learning_rate=0.05; total time=   6.5s\n",
      "[CV] END activation=sigmoid, epochs=80000, l2=0.001, layers=[19, 300, 100, 2], learning_rate=0.05; total time=   6.5s\n",
      "[CV] END activation=sigmoid, epochs=80000, l2=0.001, layers=[19, 300, 100, 2], learning_rate=0.05; total time=   6.5s\n"
     ]
    },
    {
     "name": "stdout",
     "output_type": "stream",
     "text": [
      "[CV] END activation=sigmoid, epochs=80000, l2=0.001, layers=[19, 300, 100, 2], learning_rate=0.1; total time=   6.5s\n",
      "[CV] END activation=sigmoid, epochs=80000, l2=0.001, layers=[19, 300, 100, 2], learning_rate=0.1; total time=   6.8s\n",
      "[CV] END activation=sigmoid, epochs=80000, l2=0.001, layers=[19, 300, 100, 2], learning_rate=0.1; total time=   6.6s\n",
      "[CV] END activation=sigmoid, epochs=80000, l2=0.001, layers=[19, 300, 100, 2], learning_rate=0.1; total time=   6.5s\n",
      "[CV] END activation=sigmoid, epochs=80000, l2=0.001, layers=[19, 300, 100, 2], learning_rate=0.1; total time=   6.4s\n",
      "[CV] END activation=sigmoid, epochs=80000, l2=0.001, layers=[19, 20, 2], learning_rate=0.01; total time=   6.5s\n",
      "[CV] END activation=sigmoid, epochs=80000, l2=0.001, layers=[19, 20, 2], learning_rate=0.01; total time=   6.5s\n",
      "[CV] END activation=sigmoid, epochs=80000, l2=0.001, layers=[19, 20, 2], learning_rate=0.01; total time=   6.4s\n",
      "[CV] END activation=sigmoid, epochs=80000, l2=0.001, layers=[19, 20, 2], learning_rate=0.01; total time=   6.4s\n",
      "[CV] END activation=sigmoid, epochs=80000, l2=0.001, layers=[19, 20, 2], learning_rate=0.01; total time=   6.5s\n",
      "[CV] END activation=sigmoid, epochs=80000, l2=0.001, layers=[19, 20, 2], learning_rate=0.05; total time=   6.4s\n",
      "[CV] END activation=sigmoid, epochs=80000, l2=0.001, layers=[19, 20, 2], learning_rate=0.05; total time=   6.4s\n",
      "[CV] END activation=sigmoid, epochs=80000, l2=0.001, layers=[19, 20, 2], learning_rate=0.05; total time=   6.4s\n",
      "[CV] END activation=sigmoid, epochs=80000, l2=0.001, layers=[19, 20, 2], learning_rate=0.05; total time=   6.3s\n",
      "[CV] END activation=sigmoid, epochs=80000, l2=0.001, layers=[19, 20, 2], learning_rate=0.05; total time=   6.3s\n",
      "[CV] END activation=sigmoid, epochs=80000, l2=0.001, layers=[19, 20, 2], learning_rate=0.1; total time=   6.4s\n",
      "[CV] END activation=sigmoid, epochs=80000, l2=0.001, layers=[19, 20, 2], learning_rate=0.1; total time=   6.4s\n",
      "[CV] END activation=sigmoid, epochs=80000, l2=0.001, layers=[19, 20, 2], learning_rate=0.1; total time=   6.3s\n",
      "[CV] END activation=sigmoid, epochs=80000, l2=0.001, layers=[19, 20, 2], learning_rate=0.1; total time=   6.4s\n",
      "[CV] END activation=sigmoid, epochs=80000, l2=0.001, layers=[19, 20, 2], learning_rate=0.1; total time=   6.2s\n",
      "[CV] END activation=sigmoid, epochs=80000, l2=0, layers=[19, 30, 20, 2], learning_rate=0.01; total time=   6.5s\n",
      "[CV] END activation=sigmoid, epochs=80000, l2=0, layers=[19, 30, 20, 2], learning_rate=0.01; total time=   6.8s\n",
      "[CV] END activation=sigmoid, epochs=80000, l2=0, layers=[19, 30, 20, 2], learning_rate=0.01; total time=   6.4s\n",
      "[CV] END activation=sigmoid, epochs=80000, l2=0, layers=[19, 30, 20, 2], learning_rate=0.01; total time=   6.5s\n",
      "[CV] END activation=sigmoid, epochs=80000, l2=0, layers=[19, 30, 20, 2], learning_rate=0.01; total time=   6.4s\n",
      "[CV] END activation=sigmoid, epochs=80000, l2=0, layers=[19, 30, 20, 2], learning_rate=0.05; total time=   6.5s\n",
      "[CV] END activation=sigmoid, epochs=80000, l2=0, layers=[19, 30, 20, 2], learning_rate=0.05; total time=   6.4s\n",
      "[CV] END activation=sigmoid, epochs=80000, l2=0, layers=[19, 30, 20, 2], learning_rate=0.05; total time=   6.4s\n",
      "[CV] END activation=sigmoid, epochs=80000, l2=0, layers=[19, 30, 20, 2], learning_rate=0.05; total time=   6.5s\n",
      "[CV] END activation=sigmoid, epochs=80000, l2=0, layers=[19, 30, 20, 2], learning_rate=0.05; total time=   6.5s\n",
      "[CV] END activation=sigmoid, epochs=80000, l2=0, layers=[19, 30, 20, 2], learning_rate=0.1; total time=   6.4s\n",
      "[CV] END activation=sigmoid, epochs=80000, l2=0, layers=[19, 30, 20, 2], learning_rate=0.1; total time=   6.5s\n",
      "[CV] END activation=sigmoid, epochs=80000, l2=0, layers=[19, 30, 20, 2], learning_rate=0.1; total time=   6.5s\n",
      "[CV] END activation=sigmoid, epochs=80000, l2=0, layers=[19, 30, 20, 2], learning_rate=0.1; total time=   6.4s\n",
      "[CV] END activation=sigmoid, epochs=80000, l2=0, layers=[19, 30, 20, 2], learning_rate=0.1; total time=   6.4s\n",
      "[CV] END activation=sigmoid, epochs=80000, l2=0, layers=[19, 300, 100, 2], learning_rate=0.01; total time=   6.4s\n",
      "[CV] END activation=sigmoid, epochs=80000, l2=0, layers=[19, 300, 100, 2], learning_rate=0.01; total time=   6.5s\n",
      "[CV] END activation=sigmoid, epochs=80000, l2=0, layers=[19, 300, 100, 2], learning_rate=0.01; total time=   6.4s\n",
      "[CV] END activation=sigmoid, epochs=80000, l2=0, layers=[19, 300, 100, 2], learning_rate=0.01; total time=   6.3s\n",
      "[CV] END activation=sigmoid, epochs=80000, l2=0, layers=[19, 300, 100, 2], learning_rate=0.01; total time=   6.3s\n",
      "[CV] END activation=sigmoid, epochs=80000, l2=0, layers=[19, 300, 100, 2], learning_rate=0.05; total time=   6.3s\n",
      "[CV] END activation=sigmoid, epochs=80000, l2=0, layers=[19, 300, 100, 2], learning_rate=0.05; total time=   6.3s\n",
      "[CV] END activation=sigmoid, epochs=80000, l2=0, layers=[19, 300, 100, 2], learning_rate=0.05; total time=   6.3s\n",
      "[CV] END activation=sigmoid, epochs=80000, l2=0, layers=[19, 300, 100, 2], learning_rate=0.05; total time=   6.4s\n",
      "[CV] END activation=sigmoid, epochs=80000, l2=0, layers=[19, 300, 100, 2], learning_rate=0.05; total time=   6.5s\n",
      "[CV] END activation=sigmoid, epochs=80000, l2=0, layers=[19, 300, 100, 2], learning_rate=0.1; total time=   6.3s\n",
      "[CV] END activation=sigmoid, epochs=80000, l2=0, layers=[19, 300, 100, 2], learning_rate=0.1; total time=   6.4s\n",
      "[CV] END activation=sigmoid, epochs=80000, l2=0, layers=[19, 300, 100, 2], learning_rate=0.1; total time=   6.4s\n",
      "[CV] END activation=sigmoid, epochs=80000, l2=0, layers=[19, 300, 100, 2], learning_rate=0.1; total time=   6.4s\n",
      "[CV] END activation=sigmoid, epochs=80000, l2=0, layers=[19, 300, 100, 2], learning_rate=0.1; total time=   6.4s\n",
      "[CV] END activation=sigmoid, epochs=80000, l2=0, layers=[19, 20, 2], learning_rate=0.01; total time=   6.4s\n",
      "[CV] END activation=sigmoid, epochs=80000, l2=0, layers=[19, 20, 2], learning_rate=0.01; total time=   6.5s\n",
      "[CV] END activation=sigmoid, epochs=80000, l2=0, layers=[19, 20, 2], learning_rate=0.01; total time=   6.3s\n",
      "[CV] END activation=sigmoid, epochs=80000, l2=0, layers=[19, 20, 2], learning_rate=0.01; total time=   6.3s\n",
      "[CV] END activation=sigmoid, epochs=80000, l2=0, layers=[19, 20, 2], learning_rate=0.01; total time=   6.5s\n",
      "[CV] END activation=sigmoid, epochs=80000, l2=0, layers=[19, 20, 2], learning_rate=0.05; total time=   7.5s\n",
      "[CV] END activation=sigmoid, epochs=80000, l2=0, layers=[19, 20, 2], learning_rate=0.05; total time=   6.8s\n",
      "[CV] END activation=sigmoid, epochs=80000, l2=0, layers=[19, 20, 2], learning_rate=0.05; total time=   6.8s\n",
      "[CV] END activation=sigmoid, epochs=80000, l2=0, layers=[19, 20, 2], learning_rate=0.05; total time=   7.0s\n",
      "[CV] END activation=sigmoid, epochs=80000, l2=0, layers=[19, 20, 2], learning_rate=0.05; total time=   6.8s\n",
      "[CV] END activation=sigmoid, epochs=80000, l2=0, layers=[19, 20, 2], learning_rate=0.1; total time=   7.3s\n",
      "[CV] END activation=sigmoid, epochs=80000, l2=0, layers=[19, 20, 2], learning_rate=0.1; total time=   7.0s\n",
      "[CV] END activation=sigmoid, epochs=80000, l2=0, layers=[19, 20, 2], learning_rate=0.1; total time=   6.4s\n",
      "[CV] END activation=sigmoid, epochs=80000, l2=0, layers=[19, 20, 2], learning_rate=0.1; total time=   6.3s\n",
      "[CV] END activation=sigmoid, epochs=80000, l2=0, layers=[19, 20, 2], learning_rate=0.1; total time=   6.3s\n",
      "[CV] END activation=sigmoid, epochs=20000, l2=0.0001, layers=[19, 30, 20, 2], learning_rate=0.01; total time=   1.5s\n",
      "[CV] END activation=sigmoid, epochs=20000, l2=0.0001, layers=[19, 30, 20, 2], learning_rate=0.01; total time=   1.5s\n",
      "[CV] END activation=sigmoid, epochs=20000, l2=0.0001, layers=[19, 30, 20, 2], learning_rate=0.01; total time=   1.5s\n",
      "[CV] END activation=sigmoid, epochs=20000, l2=0.0001, layers=[19, 30, 20, 2], learning_rate=0.01; total time=   1.5s\n",
      "[CV] END activation=sigmoid, epochs=20000, l2=0.0001, layers=[19, 30, 20, 2], learning_rate=0.01; total time=   1.5s\n",
      "[CV] END activation=sigmoid, epochs=20000, l2=0.0001, layers=[19, 30, 20, 2], learning_rate=0.05; total time=   1.5s\n",
      "[CV] END activation=sigmoid, epochs=20000, l2=0.0001, layers=[19, 30, 20, 2], learning_rate=0.05; total time=   1.5s\n",
      "[CV] END activation=sigmoid, epochs=20000, l2=0.0001, layers=[19, 30, 20, 2], learning_rate=0.05; total time=   1.5s\n",
      "[CV] END activation=sigmoid, epochs=20000, l2=0.0001, layers=[19, 30, 20, 2], learning_rate=0.05; total time=   1.5s\n"
     ]
    },
    {
     "name": "stdout",
     "output_type": "stream",
     "text": [
      "[CV] END activation=sigmoid, epochs=20000, l2=0.0001, layers=[19, 30, 20, 2], learning_rate=0.05; total time=   1.5s\n",
      "[CV] END activation=sigmoid, epochs=20000, l2=0.0001, layers=[19, 30, 20, 2], learning_rate=0.1; total time=   1.5s\n",
      "[CV] END activation=sigmoid, epochs=20000, l2=0.0001, layers=[19, 30, 20, 2], learning_rate=0.1; total time=   1.5s\n",
      "[CV] END activation=sigmoid, epochs=20000, l2=0.0001, layers=[19, 30, 20, 2], learning_rate=0.1; total time=   1.5s\n",
      "[CV] END activation=sigmoid, epochs=20000, l2=0.0001, layers=[19, 30, 20, 2], learning_rate=0.1; total time=   1.5s\n",
      "[CV] END activation=sigmoid, epochs=20000, l2=0.0001, layers=[19, 30, 20, 2], learning_rate=0.1; total time=   1.5s\n",
      "[CV] END activation=sigmoid, epochs=20000, l2=0.0001, layers=[19, 300, 100, 2], learning_rate=0.01; total time=   1.5s\n",
      "[CV] END activation=sigmoid, epochs=20000, l2=0.0001, layers=[19, 300, 100, 2], learning_rate=0.01; total time=   1.5s\n",
      "[CV] END activation=sigmoid, epochs=20000, l2=0.0001, layers=[19, 300, 100, 2], learning_rate=0.01; total time=   1.5s\n",
      "[CV] END activation=sigmoid, epochs=20000, l2=0.0001, layers=[19, 300, 100, 2], learning_rate=0.01; total time=   1.5s\n",
      "[CV] END activation=sigmoid, epochs=20000, l2=0.0001, layers=[19, 300, 100, 2], learning_rate=0.01; total time=   1.5s\n",
      "[CV] END activation=sigmoid, epochs=20000, l2=0.0001, layers=[19, 300, 100, 2], learning_rate=0.05; total time=   1.5s\n",
      "[CV] END activation=sigmoid, epochs=20000, l2=0.0001, layers=[19, 300, 100, 2], learning_rate=0.05; total time=   1.5s\n",
      "[CV] END activation=sigmoid, epochs=20000, l2=0.0001, layers=[19, 300, 100, 2], learning_rate=0.05; total time=   1.5s\n",
      "[CV] END activation=sigmoid, epochs=20000, l2=0.0001, layers=[19, 300, 100, 2], learning_rate=0.05; total time=   1.5s\n",
      "[CV] END activation=sigmoid, epochs=20000, l2=0.0001, layers=[19, 300, 100, 2], learning_rate=0.05; total time=   1.5s\n",
      "[CV] END activation=sigmoid, epochs=20000, l2=0.0001, layers=[19, 300, 100, 2], learning_rate=0.1; total time=   1.5s\n",
      "[CV] END activation=sigmoid, epochs=20000, l2=0.0001, layers=[19, 300, 100, 2], learning_rate=0.1; total time=   1.5s\n",
      "[CV] END activation=sigmoid, epochs=20000, l2=0.0001, layers=[19, 300, 100, 2], learning_rate=0.1; total time=   1.5s\n",
      "[CV] END activation=sigmoid, epochs=20000, l2=0.0001, layers=[19, 300, 100, 2], learning_rate=0.1; total time=   1.5s\n",
      "[CV] END activation=sigmoid, epochs=20000, l2=0.0001, layers=[19, 300, 100, 2], learning_rate=0.1; total time=   1.5s\n",
      "[CV] END activation=sigmoid, epochs=20000, l2=0.0001, layers=[19, 20, 2], learning_rate=0.01; total time=   1.7s\n",
      "[CV] END activation=sigmoid, epochs=20000, l2=0.0001, layers=[19, 20, 2], learning_rate=0.01; total time=   1.7s\n",
      "[CV] END activation=sigmoid, epochs=20000, l2=0.0001, layers=[19, 20, 2], learning_rate=0.01; total time=   1.8s\n",
      "[CV] END activation=sigmoid, epochs=20000, l2=0.0001, layers=[19, 20, 2], learning_rate=0.01; total time=   1.6s\n",
      "[CV] END activation=sigmoid, epochs=20000, l2=0.0001, layers=[19, 20, 2], learning_rate=0.01; total time=   1.6s\n",
      "[CV] END activation=sigmoid, epochs=20000, l2=0.0001, layers=[19, 20, 2], learning_rate=0.05; total time=   1.5s\n",
      "[CV] END activation=sigmoid, epochs=20000, l2=0.0001, layers=[19, 20, 2], learning_rate=0.05; total time=   1.6s\n",
      "[CV] END activation=sigmoid, epochs=20000, l2=0.0001, layers=[19, 20, 2], learning_rate=0.05; total time=   1.6s\n",
      "[CV] END activation=sigmoid, epochs=20000, l2=0.0001, layers=[19, 20, 2], learning_rate=0.05; total time=   1.6s\n",
      "[CV] END activation=sigmoid, epochs=20000, l2=0.0001, layers=[19, 20, 2], learning_rate=0.05; total time=   1.5s\n",
      "[CV] END activation=sigmoid, epochs=20000, l2=0.0001, layers=[19, 20, 2], learning_rate=0.1; total time=   1.5s\n",
      "[CV] END activation=sigmoid, epochs=20000, l2=0.0001, layers=[19, 20, 2], learning_rate=0.1; total time=   1.5s\n",
      "[CV] END activation=sigmoid, epochs=20000, l2=0.0001, layers=[19, 20, 2], learning_rate=0.1; total time=   1.5s\n",
      "[CV] END activation=sigmoid, epochs=20000, l2=0.0001, layers=[19, 20, 2], learning_rate=0.1; total time=   1.5s\n",
      "[CV] END activation=sigmoid, epochs=20000, l2=0.0001, layers=[19, 20, 2], learning_rate=0.1; total time=   1.5s\n",
      "[CV] END activation=sigmoid, epochs=20000, l2=0.001, layers=[19, 30, 20, 2], learning_rate=0.01; total time=   1.5s\n",
      "[CV] END activation=sigmoid, epochs=20000, l2=0.001, layers=[19, 30, 20, 2], learning_rate=0.01; total time=   1.5s\n",
      "[CV] END activation=sigmoid, epochs=20000, l2=0.001, layers=[19, 30, 20, 2], learning_rate=0.01; total time=   1.5s\n",
      "[CV] END activation=sigmoid, epochs=20000, l2=0.001, layers=[19, 30, 20, 2], learning_rate=0.01; total time=   1.5s\n",
      "[CV] END activation=sigmoid, epochs=20000, l2=0.001, layers=[19, 30, 20, 2], learning_rate=0.01; total time=   1.5s\n",
      "[CV] END activation=sigmoid, epochs=20000, l2=0.001, layers=[19, 30, 20, 2], learning_rate=0.05; total time=   1.5s\n",
      "[CV] END activation=sigmoid, epochs=20000, l2=0.001, layers=[19, 30, 20, 2], learning_rate=0.05; total time=   1.5s\n",
      "[CV] END activation=sigmoid, epochs=20000, l2=0.001, layers=[19, 30, 20, 2], learning_rate=0.05; total time=   1.5s\n",
      "[CV] END activation=sigmoid, epochs=20000, l2=0.001, layers=[19, 30, 20, 2], learning_rate=0.05; total time=   1.5s\n",
      "[CV] END activation=sigmoid, epochs=20000, l2=0.001, layers=[19, 30, 20, 2], learning_rate=0.05; total time=   1.5s\n",
      "[CV] END activation=sigmoid, epochs=20000, l2=0.001, layers=[19, 30, 20, 2], learning_rate=0.1; total time=   1.5s\n",
      "[CV] END activation=sigmoid, epochs=20000, l2=0.001, layers=[19, 30, 20, 2], learning_rate=0.1; total time=   1.5s\n",
      "[CV] END activation=sigmoid, epochs=20000, l2=0.001, layers=[19, 30, 20, 2], learning_rate=0.1; total time=   1.5s\n",
      "[CV] END activation=sigmoid, epochs=20000, l2=0.001, layers=[19, 30, 20, 2], learning_rate=0.1; total time=   1.5s\n",
      "[CV] END activation=sigmoid, epochs=20000, l2=0.001, layers=[19, 30, 20, 2], learning_rate=0.1; total time=   1.5s\n",
      "[CV] END activation=sigmoid, epochs=20000, l2=0.001, layers=[19, 300, 100, 2], learning_rate=0.01; total time=   1.6s\n",
      "[CV] END activation=sigmoid, epochs=20000, l2=0.001, layers=[19, 300, 100, 2], learning_rate=0.01; total time=   1.5s\n",
      "[CV] END activation=sigmoid, epochs=20000, l2=0.001, layers=[19, 300, 100, 2], learning_rate=0.01; total time=   1.5s\n",
      "[CV] END activation=sigmoid, epochs=20000, l2=0.001, layers=[19, 300, 100, 2], learning_rate=0.01; total time=   1.5s\n",
      "[CV] END activation=sigmoid, epochs=20000, l2=0.001, layers=[19, 300, 100, 2], learning_rate=0.01; total time=   1.5s\n",
      "[CV] END activation=sigmoid, epochs=20000, l2=0.001, layers=[19, 300, 100, 2], learning_rate=0.05; total time=   1.5s\n",
      "[CV] END activation=sigmoid, epochs=20000, l2=0.001, layers=[19, 300, 100, 2], learning_rate=0.05; total time=   1.5s\n",
      "[CV] END activation=sigmoid, epochs=20000, l2=0.001, layers=[19, 300, 100, 2], learning_rate=0.05; total time=   1.5s\n",
      "[CV] END activation=sigmoid, epochs=20000, l2=0.001, layers=[19, 300, 100, 2], learning_rate=0.05; total time=   1.5s\n",
      "[CV] END activation=sigmoid, epochs=20000, l2=0.001, layers=[19, 300, 100, 2], learning_rate=0.05; total time=   1.5s\n",
      "[CV] END activation=sigmoid, epochs=20000, l2=0.001, layers=[19, 300, 100, 2], learning_rate=0.1; total time=   1.6s\n",
      "[CV] END activation=sigmoid, epochs=20000, l2=0.001, layers=[19, 300, 100, 2], learning_rate=0.1; total time=   1.5s\n",
      "[CV] END activation=sigmoid, epochs=20000, l2=0.001, layers=[19, 300, 100, 2], learning_rate=0.1; total time=   1.5s\n",
      "[CV] END activation=sigmoid, epochs=20000, l2=0.001, layers=[19, 300, 100, 2], learning_rate=0.1; total time=   1.5s\n",
      "[CV] END activation=sigmoid, epochs=20000, l2=0.001, layers=[19, 300, 100, 2], learning_rate=0.1; total time=   1.5s\n",
      "[CV] END activation=sigmoid, epochs=20000, l2=0.001, layers=[19, 20, 2], learning_rate=0.01; total time=   1.5s\n",
      "[CV] END activation=sigmoid, epochs=20000, l2=0.001, layers=[19, 20, 2], learning_rate=0.01; total time=   1.5s\n",
      "[CV] END activation=sigmoid, epochs=20000, l2=0.001, layers=[19, 20, 2], learning_rate=0.01; total time=   1.5s\n",
      "[CV] END activation=sigmoid, epochs=20000, l2=0.001, layers=[19, 20, 2], learning_rate=0.01; total time=   1.5s\n",
      "[CV] END activation=sigmoid, epochs=20000, l2=0.001, layers=[19, 20, 2], learning_rate=0.01; total time=   1.5s\n"
     ]
    },
    {
     "name": "stdout",
     "output_type": "stream",
     "text": [
      "[CV] END activation=sigmoid, epochs=20000, l2=0.001, layers=[19, 20, 2], learning_rate=0.05; total time=   1.5s\n",
      "[CV] END activation=sigmoid, epochs=20000, l2=0.001, layers=[19, 20, 2], learning_rate=0.05; total time=   1.5s\n",
      "[CV] END activation=sigmoid, epochs=20000, l2=0.001, layers=[19, 20, 2], learning_rate=0.05; total time=   1.5s\n",
      "[CV] END activation=sigmoid, epochs=20000, l2=0.001, layers=[19, 20, 2], learning_rate=0.05; total time=   1.5s\n",
      "[CV] END activation=sigmoid, epochs=20000, l2=0.001, layers=[19, 20, 2], learning_rate=0.05; total time=   1.5s\n",
      "[CV] END activation=sigmoid, epochs=20000, l2=0.001, layers=[19, 20, 2], learning_rate=0.1; total time=   1.5s\n",
      "[CV] END activation=sigmoid, epochs=20000, l2=0.001, layers=[19, 20, 2], learning_rate=0.1; total time=   1.5s\n",
      "[CV] END activation=sigmoid, epochs=20000, l2=0.001, layers=[19, 20, 2], learning_rate=0.1; total time=   1.5s\n",
      "[CV] END activation=sigmoid, epochs=20000, l2=0.001, layers=[19, 20, 2], learning_rate=0.1; total time=   1.5s\n",
      "[CV] END activation=sigmoid, epochs=20000, l2=0.001, layers=[19, 20, 2], learning_rate=0.1; total time=   1.5s\n",
      "[CV] END activation=sigmoid, epochs=20000, l2=0, layers=[19, 30, 20, 2], learning_rate=0.01; total time=   1.6s\n",
      "[CV] END activation=sigmoid, epochs=20000, l2=0, layers=[19, 30, 20, 2], learning_rate=0.01; total time=   1.5s\n",
      "[CV] END activation=sigmoid, epochs=20000, l2=0, layers=[19, 30, 20, 2], learning_rate=0.01; total time=   1.6s\n",
      "[CV] END activation=sigmoid, epochs=20000, l2=0, layers=[19, 30, 20, 2], learning_rate=0.01; total time=   1.5s\n",
      "[CV] END activation=sigmoid, epochs=20000, l2=0, layers=[19, 30, 20, 2], learning_rate=0.01; total time=   1.5s\n",
      "[CV] END activation=sigmoid, epochs=20000, l2=0, layers=[19, 30, 20, 2], learning_rate=0.05; total time=   1.5s\n",
      "[CV] END activation=sigmoid, epochs=20000, l2=0, layers=[19, 30, 20, 2], learning_rate=0.05; total time=   1.5s\n",
      "[CV] END activation=sigmoid, epochs=20000, l2=0, layers=[19, 30, 20, 2], learning_rate=0.05; total time=   1.6s\n",
      "[CV] END activation=sigmoid, epochs=20000, l2=0, layers=[19, 30, 20, 2], learning_rate=0.05; total time=   1.5s\n",
      "[CV] END activation=sigmoid, epochs=20000, l2=0, layers=[19, 30, 20, 2], learning_rate=0.05; total time=   1.6s\n",
      "[CV] END activation=sigmoid, epochs=20000, l2=0, layers=[19, 30, 20, 2], learning_rate=0.1; total time=   1.5s\n",
      "[CV] END activation=sigmoid, epochs=20000, l2=0, layers=[19, 30, 20, 2], learning_rate=0.1; total time=   1.5s\n",
      "[CV] END activation=sigmoid, epochs=20000, l2=0, layers=[19, 30, 20, 2], learning_rate=0.1; total time=   1.5s\n",
      "[CV] END activation=sigmoid, epochs=20000, l2=0, layers=[19, 30, 20, 2], learning_rate=0.1; total time=   1.6s\n",
      "[CV] END activation=sigmoid, epochs=20000, l2=0, layers=[19, 30, 20, 2], learning_rate=0.1; total time=   1.6s\n",
      "[CV] END activation=sigmoid, epochs=20000, l2=0, layers=[19, 300, 100, 2], learning_rate=0.01; total time=   1.6s\n",
      "[CV] END activation=sigmoid, epochs=20000, l2=0, layers=[19, 300, 100, 2], learning_rate=0.01; total time=   1.6s\n",
      "[CV] END activation=sigmoid, epochs=20000, l2=0, layers=[19, 300, 100, 2], learning_rate=0.01; total time=   1.6s\n",
      "[CV] END activation=sigmoid, epochs=20000, l2=0, layers=[19, 300, 100, 2], learning_rate=0.01; total time=   1.6s\n",
      "[CV] END activation=sigmoid, epochs=20000, l2=0, layers=[19, 300, 100, 2], learning_rate=0.01; total time=   1.6s\n",
      "[CV] END activation=sigmoid, epochs=20000, l2=0, layers=[19, 300, 100, 2], learning_rate=0.05; total time=   1.6s\n",
      "[CV] END activation=sigmoid, epochs=20000, l2=0, layers=[19, 300, 100, 2], learning_rate=0.05; total time=   1.6s\n",
      "[CV] END activation=sigmoid, epochs=20000, l2=0, layers=[19, 300, 100, 2], learning_rate=0.05; total time=   1.6s\n",
      "[CV] END activation=sigmoid, epochs=20000, l2=0, layers=[19, 300, 100, 2], learning_rate=0.05; total time=   1.5s\n",
      "[CV] END activation=sigmoid, epochs=20000, l2=0, layers=[19, 300, 100, 2], learning_rate=0.05; total time=   1.6s\n",
      "[CV] END activation=sigmoid, epochs=20000, l2=0, layers=[19, 300, 100, 2], learning_rate=0.1; total time=   1.6s\n",
      "[CV] END activation=sigmoid, epochs=20000, l2=0, layers=[19, 300, 100, 2], learning_rate=0.1; total time=   1.6s\n",
      "[CV] END activation=sigmoid, epochs=20000, l2=0, layers=[19, 300, 100, 2], learning_rate=0.1; total time=   1.6s\n",
      "[CV] END activation=sigmoid, epochs=20000, l2=0, layers=[19, 300, 100, 2], learning_rate=0.1; total time=   1.6s\n",
      "[CV] END activation=sigmoid, epochs=20000, l2=0, layers=[19, 300, 100, 2], learning_rate=0.1; total time=   1.6s\n",
      "[CV] END activation=sigmoid, epochs=20000, l2=0, layers=[19, 20, 2], learning_rate=0.01; total time=   1.6s\n",
      "[CV] END activation=sigmoid, epochs=20000, l2=0, layers=[19, 20, 2], learning_rate=0.01; total time=   1.6s\n",
      "[CV] END activation=sigmoid, epochs=20000, l2=0, layers=[19, 20, 2], learning_rate=0.01; total time=   1.6s\n",
      "[CV] END activation=sigmoid, epochs=20000, l2=0, layers=[19, 20, 2], learning_rate=0.01; total time=   1.6s\n",
      "[CV] END activation=sigmoid, epochs=20000, l2=0, layers=[19, 20, 2], learning_rate=0.01; total time=   1.5s\n",
      "[CV] END activation=sigmoid, epochs=20000, l2=0, layers=[19, 20, 2], learning_rate=0.05; total time=   1.5s\n",
      "[CV] END activation=sigmoid, epochs=20000, l2=0, layers=[19, 20, 2], learning_rate=0.05; total time=   1.6s\n",
      "[CV] END activation=sigmoid, epochs=20000, l2=0, layers=[19, 20, 2], learning_rate=0.05; total time=   1.6s\n",
      "[CV] END activation=sigmoid, epochs=20000, l2=0, layers=[19, 20, 2], learning_rate=0.05; total time=   1.5s\n",
      "[CV] END activation=sigmoid, epochs=20000, l2=0, layers=[19, 20, 2], learning_rate=0.05; total time=   1.6s\n",
      "[CV] END activation=sigmoid, epochs=20000, l2=0, layers=[19, 20, 2], learning_rate=0.1; total time=   1.6s\n",
      "[CV] END activation=sigmoid, epochs=20000, l2=0, layers=[19, 20, 2], learning_rate=0.1; total time=   1.6s\n",
      "[CV] END activation=sigmoid, epochs=20000, l2=0, layers=[19, 20, 2], learning_rate=0.1; total time=   1.5s\n",
      "[CV] END activation=sigmoid, epochs=20000, l2=0, layers=[19, 20, 2], learning_rate=0.1; total time=   1.6s\n",
      "[CV] END activation=sigmoid, epochs=20000, l2=0, layers=[19, 20, 2], learning_rate=0.1; total time=   1.5s\n",
      "[CV] END activation=tanh, epochs=80000, l2=0.0001, layers=[19, 30, 20, 2], learning_rate=0.01; total time=   5.5s\n",
      "[CV] END activation=tanh, epochs=80000, l2=0.0001, layers=[19, 30, 20, 2], learning_rate=0.01; total time=   5.5s\n",
      "[CV] END activation=tanh, epochs=80000, l2=0.0001, layers=[19, 30, 20, 2], learning_rate=0.01; total time=   5.5s\n",
      "[CV] END activation=tanh, epochs=80000, l2=0.0001, layers=[19, 30, 20, 2], learning_rate=0.01; total time=   5.5s\n",
      "[CV] END activation=tanh, epochs=80000, l2=0.0001, layers=[19, 30, 20, 2], learning_rate=0.01; total time=   5.5s\n",
      "[CV] END activation=tanh, epochs=80000, l2=0.0001, layers=[19, 30, 20, 2], learning_rate=0.05; total time=   5.5s\n",
      "[CV] END activation=tanh, epochs=80000, l2=0.0001, layers=[19, 30, 20, 2], learning_rate=0.05; total time=   5.5s\n",
      "[CV] END activation=tanh, epochs=80000, l2=0.0001, layers=[19, 30, 20, 2], learning_rate=0.05; total time=   5.5s\n",
      "[CV] END activation=tanh, epochs=80000, l2=0.0001, layers=[19, 30, 20, 2], learning_rate=0.05; total time=   5.5s\n",
      "[CV] END activation=tanh, epochs=80000, l2=0.0001, layers=[19, 30, 20, 2], learning_rate=0.05; total time=   5.5s\n",
      "[CV] END activation=tanh, epochs=80000, l2=0.0001, layers=[19, 30, 20, 2], learning_rate=0.1; total time=   5.5s\n",
      "[CV] END activation=tanh, epochs=80000, l2=0.0001, layers=[19, 30, 20, 2], learning_rate=0.1; total time=   5.4s\n",
      "[CV] END activation=tanh, epochs=80000, l2=0.0001, layers=[19, 30, 20, 2], learning_rate=0.1; total time=   5.4s\n",
      "[CV] END activation=tanh, epochs=80000, l2=0.0001, layers=[19, 30, 20, 2], learning_rate=0.1; total time=   5.4s\n",
      "[CV] END activation=tanh, epochs=80000, l2=0.0001, layers=[19, 30, 20, 2], learning_rate=0.1; total time=   5.4s\n",
      "[CV] END activation=tanh, epochs=80000, l2=0.0001, layers=[19, 300, 100, 2], learning_rate=0.01; total time=   5.4s\n",
      "[CV] END activation=tanh, epochs=80000, l2=0.0001, layers=[19, 300, 100, 2], learning_rate=0.01; total time=   5.4s\n",
      "[CV] END activation=tanh, epochs=80000, l2=0.0001, layers=[19, 300, 100, 2], learning_rate=0.01; total time=   5.4s\n",
      "[CV] END activation=tanh, epochs=80000, l2=0.0001, layers=[19, 300, 100, 2], learning_rate=0.01; total time=   5.5s\n"
     ]
    },
    {
     "name": "stdout",
     "output_type": "stream",
     "text": [
      "[CV] END activation=tanh, epochs=80000, l2=0.0001, layers=[19, 300, 100, 2], learning_rate=0.01; total time=   5.4s\n",
      "[CV] END activation=tanh, epochs=80000, l2=0.0001, layers=[19, 300, 100, 2], learning_rate=0.05; total time=   5.4s\n",
      "[CV] END activation=tanh, epochs=80000, l2=0.0001, layers=[19, 300, 100, 2], learning_rate=0.05; total time=   5.5s\n",
      "[CV] END activation=tanh, epochs=80000, l2=0.0001, layers=[19, 300, 100, 2], learning_rate=0.05; total time=   5.5s\n",
      "[CV] END activation=tanh, epochs=80000, l2=0.0001, layers=[19, 300, 100, 2], learning_rate=0.05; total time=   5.5s\n",
      "[CV] END activation=tanh, epochs=80000, l2=0.0001, layers=[19, 300, 100, 2], learning_rate=0.05; total time=   5.4s\n",
      "[CV] END activation=tanh, epochs=80000, l2=0.0001, layers=[19, 300, 100, 2], learning_rate=0.1; total time=   5.5s\n",
      "[CV] END activation=tanh, epochs=80000, l2=0.0001, layers=[19, 300, 100, 2], learning_rate=0.1; total time=   5.4s\n",
      "[CV] END activation=tanh, epochs=80000, l2=0.0001, layers=[19, 300, 100, 2], learning_rate=0.1; total time=   5.4s\n",
      "[CV] END activation=tanh, epochs=80000, l2=0.0001, layers=[19, 300, 100, 2], learning_rate=0.1; total time=   5.4s\n",
      "[CV] END activation=tanh, epochs=80000, l2=0.0001, layers=[19, 300, 100, 2], learning_rate=0.1; total time=   5.4s\n",
      "[CV] END activation=tanh, epochs=80000, l2=0.0001, layers=[19, 20, 2], learning_rate=0.01; total time=   5.4s\n",
      "[CV] END activation=tanh, epochs=80000, l2=0.0001, layers=[19, 20, 2], learning_rate=0.01; total time=   5.4s\n",
      "[CV] END activation=tanh, epochs=80000, l2=0.0001, layers=[19, 20, 2], learning_rate=0.01; total time=   5.4s\n",
      "[CV] END activation=tanh, epochs=80000, l2=0.0001, layers=[19, 20, 2], learning_rate=0.01; total time=   5.4s\n",
      "[CV] END activation=tanh, epochs=80000, l2=0.0001, layers=[19, 20, 2], learning_rate=0.01; total time=   5.4s\n",
      "[CV] END activation=tanh, epochs=80000, l2=0.0001, layers=[19, 20, 2], learning_rate=0.05; total time=   5.4s\n",
      "[CV] END activation=tanh, epochs=80000, l2=0.0001, layers=[19, 20, 2], learning_rate=0.05; total time=   5.4s\n",
      "[CV] END activation=tanh, epochs=80000, l2=0.0001, layers=[19, 20, 2], learning_rate=0.05; total time=   5.4s\n",
      "[CV] END activation=tanh, epochs=80000, l2=0.0001, layers=[19, 20, 2], learning_rate=0.05; total time=   5.4s\n",
      "[CV] END activation=tanh, epochs=80000, l2=0.0001, layers=[19, 20, 2], learning_rate=0.05; total time=   5.4s\n",
      "[CV] END activation=tanh, epochs=80000, l2=0.0001, layers=[19, 20, 2], learning_rate=0.1; total time=   5.4s\n",
      "[CV] END activation=tanh, epochs=80000, l2=0.0001, layers=[19, 20, 2], learning_rate=0.1; total time=   5.4s\n",
      "[CV] END activation=tanh, epochs=80000, l2=0.0001, layers=[19, 20, 2], learning_rate=0.1; total time=   5.5s\n",
      "[CV] END activation=tanh, epochs=80000, l2=0.0001, layers=[19, 20, 2], learning_rate=0.1; total time=   5.4s\n",
      "[CV] END activation=tanh, epochs=80000, l2=0.0001, layers=[19, 20, 2], learning_rate=0.1; total time=   5.4s\n",
      "[CV] END activation=tanh, epochs=80000, l2=0.001, layers=[19, 30, 20, 2], learning_rate=0.01; total time=   5.5s\n",
      "[CV] END activation=tanh, epochs=80000, l2=0.001, layers=[19, 30, 20, 2], learning_rate=0.01; total time=   5.4s\n",
      "[CV] END activation=tanh, epochs=80000, l2=0.001, layers=[19, 30, 20, 2], learning_rate=0.01; total time=   5.4s\n",
      "[CV] END activation=tanh, epochs=80000, l2=0.001, layers=[19, 30, 20, 2], learning_rate=0.01; total time=   5.4s\n",
      "[CV] END activation=tanh, epochs=80000, l2=0.001, layers=[19, 30, 20, 2], learning_rate=0.01; total time=   5.4s\n",
      "[CV] END activation=tanh, epochs=80000, l2=0.001, layers=[19, 30, 20, 2], learning_rate=0.05; total time=   5.4s\n",
      "[CV] END activation=tanh, epochs=80000, l2=0.001, layers=[19, 30, 20, 2], learning_rate=0.05; total time=   5.4s\n",
      "[CV] END activation=tanh, epochs=80000, l2=0.001, layers=[19, 30, 20, 2], learning_rate=0.05; total time=   5.5s\n",
      "[CV] END activation=tanh, epochs=80000, l2=0.001, layers=[19, 30, 20, 2], learning_rate=0.05; total time=   5.4s\n",
      "[CV] END activation=tanh, epochs=80000, l2=0.001, layers=[19, 30, 20, 2], learning_rate=0.05; total time=   5.4s\n",
      "[CV] END activation=tanh, epochs=80000, l2=0.001, layers=[19, 30, 20, 2], learning_rate=0.1; total time=   5.4s\n",
      "[CV] END activation=tanh, epochs=80000, l2=0.001, layers=[19, 30, 20, 2], learning_rate=0.1; total time=   5.4s\n",
      "[CV] END activation=tanh, epochs=80000, l2=0.001, layers=[19, 30, 20, 2], learning_rate=0.1; total time=   5.4s\n",
      "[CV] END activation=tanh, epochs=80000, l2=0.001, layers=[19, 30, 20, 2], learning_rate=0.1; total time=   5.4s\n",
      "[CV] END activation=tanh, epochs=80000, l2=0.001, layers=[19, 30, 20, 2], learning_rate=0.1; total time=   5.4s\n",
      "[CV] END activation=tanh, epochs=80000, l2=0.001, layers=[19, 300, 100, 2], learning_rate=0.01; total time=   5.4s\n",
      "[CV] END activation=tanh, epochs=80000, l2=0.001, layers=[19, 300, 100, 2], learning_rate=0.01; total time=   5.5s\n",
      "[CV] END activation=tanh, epochs=80000, l2=0.001, layers=[19, 300, 100, 2], learning_rate=0.01; total time=   5.5s\n",
      "[CV] END activation=tanh, epochs=80000, l2=0.001, layers=[19, 300, 100, 2], learning_rate=0.01; total time=   5.5s\n",
      "[CV] END activation=tanh, epochs=80000, l2=0.001, layers=[19, 300, 100, 2], learning_rate=0.01; total time=   5.6s\n",
      "[CV] END activation=tanh, epochs=80000, l2=0.001, layers=[19, 300, 100, 2], learning_rate=0.05; total time=   5.5s\n",
      "[CV] END activation=tanh, epochs=80000, l2=0.001, layers=[19, 300, 100, 2], learning_rate=0.05; total time=   5.4s\n",
      "[CV] END activation=tanh, epochs=80000, l2=0.001, layers=[19, 300, 100, 2], learning_rate=0.05; total time=   5.5s\n",
      "[CV] END activation=tanh, epochs=80000, l2=0.001, layers=[19, 300, 100, 2], learning_rate=0.05; total time=   5.5s\n",
      "[CV] END activation=tanh, epochs=80000, l2=0.001, layers=[19, 300, 100, 2], learning_rate=0.05; total time=   5.5s\n",
      "[CV] END activation=tanh, epochs=80000, l2=0.001, layers=[19, 300, 100, 2], learning_rate=0.1; total time=   5.4s\n",
      "[CV] END activation=tanh, epochs=80000, l2=0.001, layers=[19, 300, 100, 2], learning_rate=0.1; total time=   5.5s\n",
      "[CV] END activation=tanh, epochs=80000, l2=0.001, layers=[19, 300, 100, 2], learning_rate=0.1; total time=   5.5s\n",
      "[CV] END activation=tanh, epochs=80000, l2=0.001, layers=[19, 300, 100, 2], learning_rate=0.1; total time=   5.5s\n",
      "[CV] END activation=tanh, epochs=80000, l2=0.001, layers=[19, 300, 100, 2], learning_rate=0.1; total time=   5.5s\n",
      "[CV] END activation=tanh, epochs=80000, l2=0.001, layers=[19, 20, 2], learning_rate=0.01; total time=   5.4s\n",
      "[CV] END activation=tanh, epochs=80000, l2=0.001, layers=[19, 20, 2], learning_rate=0.01; total time=   5.5s\n",
      "[CV] END activation=tanh, epochs=80000, l2=0.001, layers=[19, 20, 2], learning_rate=0.01; total time=   5.5s\n",
      "[CV] END activation=tanh, epochs=80000, l2=0.001, layers=[19, 20, 2], learning_rate=0.01; total time=   5.4s\n",
      "[CV] END activation=tanh, epochs=80000, l2=0.001, layers=[19, 20, 2], learning_rate=0.01; total time=   5.4s\n",
      "[CV] END activation=tanh, epochs=80000, l2=0.001, layers=[19, 20, 2], learning_rate=0.05; total time=   5.4s\n",
      "[CV] END activation=tanh, epochs=80000, l2=0.001, layers=[19, 20, 2], learning_rate=0.05; total time=   5.4s\n",
      "[CV] END activation=tanh, epochs=80000, l2=0.001, layers=[19, 20, 2], learning_rate=0.05; total time=   5.5s\n",
      "[CV] END activation=tanh, epochs=80000, l2=0.001, layers=[19, 20, 2], learning_rate=0.05; total time=   5.5s\n",
      "[CV] END activation=tanh, epochs=80000, l2=0.001, layers=[19, 20, 2], learning_rate=0.05; total time=   5.5s\n",
      "[CV] END activation=tanh, epochs=80000, l2=0.001, layers=[19, 20, 2], learning_rate=0.1; total time=   5.5s\n",
      "[CV] END activation=tanh, epochs=80000, l2=0.001, layers=[19, 20, 2], learning_rate=0.1; total time=   5.5s\n",
      "[CV] END activation=tanh, epochs=80000, l2=0.001, layers=[19, 20, 2], learning_rate=0.1; total time=   5.4s\n",
      "[CV] END activation=tanh, epochs=80000, l2=0.001, layers=[19, 20, 2], learning_rate=0.1; total time=   5.5s\n",
      "[CV] END activation=tanh, epochs=80000, l2=0.001, layers=[19, 20, 2], learning_rate=0.1; total time=   5.5s\n",
      "[CV] END activation=tanh, epochs=80000, l2=0, layers=[19, 30, 20, 2], learning_rate=0.01; total time=   5.6s\n",
      "[CV] END activation=tanh, epochs=80000, l2=0, layers=[19, 30, 20, 2], learning_rate=0.01; total time=   5.5s\n",
      "[CV] END activation=tanh, epochs=80000, l2=0, layers=[19, 30, 20, 2], learning_rate=0.01; total time=   5.5s\n"
     ]
    },
    {
     "name": "stdout",
     "output_type": "stream",
     "text": [
      "[CV] END activation=tanh, epochs=80000, l2=0, layers=[19, 30, 20, 2], learning_rate=0.01; total time=   5.5s\n",
      "[CV] END activation=tanh, epochs=80000, l2=0, layers=[19, 30, 20, 2], learning_rate=0.01; total time=   5.5s\n",
      "[CV] END activation=tanh, epochs=80000, l2=0, layers=[19, 30, 20, 2], learning_rate=0.05; total time=   5.4s\n",
      "[CV] END activation=tanh, epochs=80000, l2=0, layers=[19, 30, 20, 2], learning_rate=0.05; total time=   5.5s\n",
      "[CV] END activation=tanh, epochs=80000, l2=0, layers=[19, 30, 20, 2], learning_rate=0.05; total time=   5.4s\n",
      "[CV] END activation=tanh, epochs=80000, l2=0, layers=[19, 30, 20, 2], learning_rate=0.05; total time=   5.4s\n",
      "[CV] END activation=tanh, epochs=80000, l2=0, layers=[19, 30, 20, 2], learning_rate=0.05; total time=   5.5s\n",
      "[CV] END activation=tanh, epochs=80000, l2=0, layers=[19, 30, 20, 2], learning_rate=0.1; total time=   5.5s\n",
      "[CV] END activation=tanh, epochs=80000, l2=0, layers=[19, 30, 20, 2], learning_rate=0.1; total time=   5.5s\n",
      "[CV] END activation=tanh, epochs=80000, l2=0, layers=[19, 30, 20, 2], learning_rate=0.1; total time=   5.5s\n",
      "[CV] END activation=tanh, epochs=80000, l2=0, layers=[19, 30, 20, 2], learning_rate=0.1; total time=   5.4s\n",
      "[CV] END activation=tanh, epochs=80000, l2=0, layers=[19, 30, 20, 2], learning_rate=0.1; total time=   5.4s\n",
      "[CV] END activation=tanh, epochs=80000, l2=0, layers=[19, 300, 100, 2], learning_rate=0.01; total time=   5.5s\n",
      "[CV] END activation=tanh, epochs=80000, l2=0, layers=[19, 300, 100, 2], learning_rate=0.01; total time=   5.5s\n",
      "[CV] END activation=tanh, epochs=80000, l2=0, layers=[19, 300, 100, 2], learning_rate=0.01; total time=   5.5s\n",
      "[CV] END activation=tanh, epochs=80000, l2=0, layers=[19, 300, 100, 2], learning_rate=0.01; total time=   5.5s\n",
      "[CV] END activation=tanh, epochs=80000, l2=0, layers=[19, 300, 100, 2], learning_rate=0.01; total time=   5.5s\n",
      "[CV] END activation=tanh, epochs=80000, l2=0, layers=[19, 300, 100, 2], learning_rate=0.05; total time=   5.6s\n",
      "[CV] END activation=tanh, epochs=80000, l2=0, layers=[19, 300, 100, 2], learning_rate=0.05; total time=   5.5s\n",
      "[CV] END activation=tanh, epochs=80000, l2=0, layers=[19, 300, 100, 2], learning_rate=0.05; total time=   5.6s\n",
      "[CV] END activation=tanh, epochs=80000, l2=0, layers=[19, 300, 100, 2], learning_rate=0.05; total time=   5.5s\n",
      "[CV] END activation=tanh, epochs=80000, l2=0, layers=[19, 300, 100, 2], learning_rate=0.05; total time=   5.8s\n",
      "[CV] END activation=tanh, epochs=80000, l2=0, layers=[19, 300, 100, 2], learning_rate=0.1; total time=   5.6s\n",
      "[CV] END activation=tanh, epochs=80000, l2=0, layers=[19, 300, 100, 2], learning_rate=0.1; total time=   5.8s\n",
      "[CV] END activation=tanh, epochs=80000, l2=0, layers=[19, 300, 100, 2], learning_rate=0.1; total time=   5.5s\n",
      "[CV] END activation=tanh, epochs=80000, l2=0, layers=[19, 300, 100, 2], learning_rate=0.1; total time=   5.5s\n",
      "[CV] END activation=tanh, epochs=80000, l2=0, layers=[19, 300, 100, 2], learning_rate=0.1; total time=   5.5s\n",
      "[CV] END activation=tanh, epochs=80000, l2=0, layers=[19, 20, 2], learning_rate=0.01; total time=   5.5s\n",
      "[CV] END activation=tanh, epochs=80000, l2=0, layers=[19, 20, 2], learning_rate=0.01; total time=   5.4s\n",
      "[CV] END activation=tanh, epochs=80000, l2=0, layers=[19, 20, 2], learning_rate=0.01; total time=   5.6s\n",
      "[CV] END activation=tanh, epochs=80000, l2=0, layers=[19, 20, 2], learning_rate=0.01; total time=   5.5s\n",
      "[CV] END activation=tanh, epochs=80000, l2=0, layers=[19, 20, 2], learning_rate=0.01; total time=   5.5s\n",
      "[CV] END activation=tanh, epochs=80000, l2=0, layers=[19, 20, 2], learning_rate=0.05; total time=   5.6s\n",
      "[CV] END activation=tanh, epochs=80000, l2=0, layers=[19, 20, 2], learning_rate=0.05; total time=   5.6s\n",
      "[CV] END activation=tanh, epochs=80000, l2=0, layers=[19, 20, 2], learning_rate=0.05; total time=   5.6s\n",
      "[CV] END activation=tanh, epochs=80000, l2=0, layers=[19, 20, 2], learning_rate=0.05; total time=   5.6s\n",
      "[CV] END activation=tanh, epochs=80000, l2=0, layers=[19, 20, 2], learning_rate=0.05; total time=   5.5s\n",
      "[CV] END activation=tanh, epochs=80000, l2=0, layers=[19, 20, 2], learning_rate=0.1; total time=   5.6s\n",
      "[CV] END activation=tanh, epochs=80000, l2=0, layers=[19, 20, 2], learning_rate=0.1; total time=   5.6s\n",
      "[CV] END activation=tanh, epochs=80000, l2=0, layers=[19, 20, 2], learning_rate=0.1; total time=   5.5s\n",
      "[CV] END activation=tanh, epochs=80000, l2=0, layers=[19, 20, 2], learning_rate=0.1; total time=   5.5s\n",
      "[CV] END activation=tanh, epochs=80000, l2=0, layers=[19, 20, 2], learning_rate=0.1; total time=   5.6s\n",
      "[CV] END activation=tanh, epochs=20000, l2=0.0001, layers=[19, 30, 20, 2], learning_rate=0.01; total time=   1.3s\n",
      "[CV] END activation=tanh, epochs=20000, l2=0.0001, layers=[19, 30, 20, 2], learning_rate=0.01; total time=   1.3s\n",
      "[CV] END activation=tanh, epochs=20000, l2=0.0001, layers=[19, 30, 20, 2], learning_rate=0.01; total time=   1.3s\n",
      "[CV] END activation=tanh, epochs=20000, l2=0.0001, layers=[19, 30, 20, 2], learning_rate=0.01; total time=   1.3s\n",
      "[CV] END activation=tanh, epochs=20000, l2=0.0001, layers=[19, 30, 20, 2], learning_rate=0.01; total time=   1.3s\n",
      "[CV] END activation=tanh, epochs=20000, l2=0.0001, layers=[19, 30, 20, 2], learning_rate=0.05; total time=   1.3s\n",
      "[CV] END activation=tanh, epochs=20000, l2=0.0001, layers=[19, 30, 20, 2], learning_rate=0.05; total time=   1.3s\n",
      "[CV] END activation=tanh, epochs=20000, l2=0.0001, layers=[19, 30, 20, 2], learning_rate=0.05; total time=   1.3s\n",
      "[CV] END activation=tanh, epochs=20000, l2=0.0001, layers=[19, 30, 20, 2], learning_rate=0.05; total time=   1.3s\n",
      "[CV] END activation=tanh, epochs=20000, l2=0.0001, layers=[19, 30, 20, 2], learning_rate=0.05; total time=   1.3s\n",
      "[CV] END activation=tanh, epochs=20000, l2=0.0001, layers=[19, 30, 20, 2], learning_rate=0.1; total time=   1.3s\n",
      "[CV] END activation=tanh, epochs=20000, l2=0.0001, layers=[19, 30, 20, 2], learning_rate=0.1; total time=   1.3s\n",
      "[CV] END activation=tanh, epochs=20000, l2=0.0001, layers=[19, 30, 20, 2], learning_rate=0.1; total time=   1.3s\n",
      "[CV] END activation=tanh, epochs=20000, l2=0.0001, layers=[19, 30, 20, 2], learning_rate=0.1; total time=   1.3s\n",
      "[CV] END activation=tanh, epochs=20000, l2=0.0001, layers=[19, 30, 20, 2], learning_rate=0.1; total time=   1.3s\n",
      "[CV] END activation=tanh, epochs=20000, l2=0.0001, layers=[19, 300, 100, 2], learning_rate=0.01; total time=   1.3s\n",
      "[CV] END activation=tanh, epochs=20000, l2=0.0001, layers=[19, 300, 100, 2], learning_rate=0.01; total time=   1.3s\n",
      "[CV] END activation=tanh, epochs=20000, l2=0.0001, layers=[19, 300, 100, 2], learning_rate=0.01; total time=   1.3s\n",
      "[CV] END activation=tanh, epochs=20000, l2=0.0001, layers=[19, 300, 100, 2], learning_rate=0.01; total time=   1.3s\n",
      "[CV] END activation=tanh, epochs=20000, l2=0.0001, layers=[19, 300, 100, 2], learning_rate=0.01; total time=   1.3s\n",
      "[CV] END activation=tanh, epochs=20000, l2=0.0001, layers=[19, 300, 100, 2], learning_rate=0.05; total time=   1.3s\n",
      "[CV] END activation=tanh, epochs=20000, l2=0.0001, layers=[19, 300, 100, 2], learning_rate=0.05; total time=   1.3s\n",
      "[CV] END activation=tanh, epochs=20000, l2=0.0001, layers=[19, 300, 100, 2], learning_rate=0.05; total time=   1.3s\n",
      "[CV] END activation=tanh, epochs=20000, l2=0.0001, layers=[19, 300, 100, 2], learning_rate=0.05; total time=   1.3s\n",
      "[CV] END activation=tanh, epochs=20000, l2=0.0001, layers=[19, 300, 100, 2], learning_rate=0.05; total time=   1.3s\n",
      "[CV] END activation=tanh, epochs=20000, l2=0.0001, layers=[19, 300, 100, 2], learning_rate=0.1; total time=   1.3s\n",
      "[CV] END activation=tanh, epochs=20000, l2=0.0001, layers=[19, 300, 100, 2], learning_rate=0.1; total time=   1.3s\n",
      "[CV] END activation=tanh, epochs=20000, l2=0.0001, layers=[19, 300, 100, 2], learning_rate=0.1; total time=   1.3s\n",
      "[CV] END activation=tanh, epochs=20000, l2=0.0001, layers=[19, 300, 100, 2], learning_rate=0.1; total time=   1.3s\n",
      "[CV] END activation=tanh, epochs=20000, l2=0.0001, layers=[19, 300, 100, 2], learning_rate=0.1; total time=   1.3s\n",
      "[CV] END activation=tanh, epochs=20000, l2=0.0001, layers=[19, 20, 2], learning_rate=0.01; total time=   1.3s\n",
      "[CV] END activation=tanh, epochs=20000, l2=0.0001, layers=[19, 20, 2], learning_rate=0.01; total time=   1.3s\n"
     ]
    },
    {
     "name": "stdout",
     "output_type": "stream",
     "text": [
      "[CV] END activation=tanh, epochs=20000, l2=0.0001, layers=[19, 20, 2], learning_rate=0.01; total time=   1.3s\n",
      "[CV] END activation=tanh, epochs=20000, l2=0.0001, layers=[19, 20, 2], learning_rate=0.01; total time=   1.3s\n",
      "[CV] END activation=tanh, epochs=20000, l2=0.0001, layers=[19, 20, 2], learning_rate=0.01; total time=   1.3s\n",
      "[CV] END activation=tanh, epochs=20000, l2=0.0001, layers=[19, 20, 2], learning_rate=0.05; total time=   1.3s\n",
      "[CV] END activation=tanh, epochs=20000, l2=0.0001, layers=[19, 20, 2], learning_rate=0.05; total time=   1.3s\n",
      "[CV] END activation=tanh, epochs=20000, l2=0.0001, layers=[19, 20, 2], learning_rate=0.05; total time=   1.3s\n",
      "[CV] END activation=tanh, epochs=20000, l2=0.0001, layers=[19, 20, 2], learning_rate=0.05; total time=   1.3s\n",
      "[CV] END activation=tanh, epochs=20000, l2=0.0001, layers=[19, 20, 2], learning_rate=0.05; total time=   1.3s\n",
      "[CV] END activation=tanh, epochs=20000, l2=0.0001, layers=[19, 20, 2], learning_rate=0.1; total time=   1.3s\n",
      "[CV] END activation=tanh, epochs=20000, l2=0.0001, layers=[19, 20, 2], learning_rate=0.1; total time=   1.3s\n",
      "[CV] END activation=tanh, epochs=20000, l2=0.0001, layers=[19, 20, 2], learning_rate=0.1; total time=   1.3s\n",
      "[CV] END activation=tanh, epochs=20000, l2=0.0001, layers=[19, 20, 2], learning_rate=0.1; total time=   1.3s\n",
      "[CV] END activation=tanh, epochs=20000, l2=0.0001, layers=[19, 20, 2], learning_rate=0.1; total time=   1.3s\n",
      "[CV] END activation=tanh, epochs=20000, l2=0.001, layers=[19, 30, 20, 2], learning_rate=0.01; total time=   1.3s\n",
      "[CV] END activation=tanh, epochs=20000, l2=0.001, layers=[19, 30, 20, 2], learning_rate=0.01; total time=   1.3s\n",
      "[CV] END activation=tanh, epochs=20000, l2=0.001, layers=[19, 30, 20, 2], learning_rate=0.01; total time=   1.3s\n",
      "[CV] END activation=tanh, epochs=20000, l2=0.001, layers=[19, 30, 20, 2], learning_rate=0.01; total time=   1.3s\n",
      "[CV] END activation=tanh, epochs=20000, l2=0.001, layers=[19, 30, 20, 2], learning_rate=0.01; total time=   1.3s\n",
      "[CV] END activation=tanh, epochs=20000, l2=0.001, layers=[19, 30, 20, 2], learning_rate=0.05; total time=   1.3s\n",
      "[CV] END activation=tanh, epochs=20000, l2=0.001, layers=[19, 30, 20, 2], learning_rate=0.05; total time=   1.3s\n",
      "[CV] END activation=tanh, epochs=20000, l2=0.001, layers=[19, 30, 20, 2], learning_rate=0.05; total time=   1.3s\n",
      "[CV] END activation=tanh, epochs=20000, l2=0.001, layers=[19, 30, 20, 2], learning_rate=0.05; total time=   1.3s\n",
      "[CV] END activation=tanh, epochs=20000, l2=0.001, layers=[19, 30, 20, 2], learning_rate=0.05; total time=   1.3s\n",
      "[CV] END activation=tanh, epochs=20000, l2=0.001, layers=[19, 30, 20, 2], learning_rate=0.1; total time=   1.3s\n",
      "[CV] END activation=tanh, epochs=20000, l2=0.001, layers=[19, 30, 20, 2], learning_rate=0.1; total time=   1.3s\n",
      "[CV] END activation=tanh, epochs=20000, l2=0.001, layers=[19, 30, 20, 2], learning_rate=0.1; total time=   1.3s\n",
      "[CV] END activation=tanh, epochs=20000, l2=0.001, layers=[19, 30, 20, 2], learning_rate=0.1; total time=   1.3s\n",
      "[CV] END activation=tanh, epochs=20000, l2=0.001, layers=[19, 30, 20, 2], learning_rate=0.1; total time=   1.3s\n",
      "[CV] END activation=tanh, epochs=20000, l2=0.001, layers=[19, 300, 100, 2], learning_rate=0.01; total time=   1.3s\n",
      "[CV] END activation=tanh, epochs=20000, l2=0.001, layers=[19, 300, 100, 2], learning_rate=0.01; total time=   1.3s\n",
      "[CV] END activation=tanh, epochs=20000, l2=0.001, layers=[19, 300, 100, 2], learning_rate=0.01; total time=   1.3s\n",
      "[CV] END activation=tanh, epochs=20000, l2=0.001, layers=[19, 300, 100, 2], learning_rate=0.01; total time=   1.3s\n",
      "[CV] END activation=tanh, epochs=20000, l2=0.001, layers=[19, 300, 100, 2], learning_rate=0.01; total time=   1.3s\n",
      "[CV] END activation=tanh, epochs=20000, l2=0.001, layers=[19, 300, 100, 2], learning_rate=0.05; total time=   1.3s\n",
      "[CV] END activation=tanh, epochs=20000, l2=0.001, layers=[19, 300, 100, 2], learning_rate=0.05; total time=   1.3s\n",
      "[CV] END activation=tanh, epochs=20000, l2=0.001, layers=[19, 300, 100, 2], learning_rate=0.05; total time=   1.3s\n",
      "[CV] END activation=tanh, epochs=20000, l2=0.001, layers=[19, 300, 100, 2], learning_rate=0.05; total time=   1.3s\n",
      "[CV] END activation=tanh, epochs=20000, l2=0.001, layers=[19, 300, 100, 2], learning_rate=0.05; total time=   1.3s\n",
      "[CV] END activation=tanh, epochs=20000, l2=0.001, layers=[19, 300, 100, 2], learning_rate=0.1; total time=   1.3s\n",
      "[CV] END activation=tanh, epochs=20000, l2=0.001, layers=[19, 300, 100, 2], learning_rate=0.1; total time=   1.3s\n",
      "[CV] END activation=tanh, epochs=20000, l2=0.001, layers=[19, 300, 100, 2], learning_rate=0.1; total time=   1.3s\n",
      "[CV] END activation=tanh, epochs=20000, l2=0.001, layers=[19, 300, 100, 2], learning_rate=0.1; total time=   1.3s\n",
      "[CV] END activation=tanh, epochs=20000, l2=0.001, layers=[19, 300, 100, 2], learning_rate=0.1; total time=   1.3s\n",
      "[CV] END activation=tanh, epochs=20000, l2=0.001, layers=[19, 20, 2], learning_rate=0.01; total time=   1.3s\n",
      "[CV] END activation=tanh, epochs=20000, l2=0.001, layers=[19, 20, 2], learning_rate=0.01; total time=   1.3s\n",
      "[CV] END activation=tanh, epochs=20000, l2=0.001, layers=[19, 20, 2], learning_rate=0.01; total time=   1.3s\n",
      "[CV] END activation=tanh, epochs=20000, l2=0.001, layers=[19, 20, 2], learning_rate=0.01; total time=   1.3s\n",
      "[CV] END activation=tanh, epochs=20000, l2=0.001, layers=[19, 20, 2], learning_rate=0.01; total time=   1.3s\n",
      "[CV] END activation=tanh, epochs=20000, l2=0.001, layers=[19, 20, 2], learning_rate=0.05; total time=   1.3s\n",
      "[CV] END activation=tanh, epochs=20000, l2=0.001, layers=[19, 20, 2], learning_rate=0.05; total time=   1.3s\n",
      "[CV] END activation=tanh, epochs=20000, l2=0.001, layers=[19, 20, 2], learning_rate=0.05; total time=   1.3s\n",
      "[CV] END activation=tanh, epochs=20000, l2=0.001, layers=[19, 20, 2], learning_rate=0.05; total time=   1.3s\n",
      "[CV] END activation=tanh, epochs=20000, l2=0.001, layers=[19, 20, 2], learning_rate=0.05; total time=   1.3s\n",
      "[CV] END activation=tanh, epochs=20000, l2=0.001, layers=[19, 20, 2], learning_rate=0.1; total time=   1.3s\n",
      "[CV] END activation=tanh, epochs=20000, l2=0.001, layers=[19, 20, 2], learning_rate=0.1; total time=   1.3s\n",
      "[CV] END activation=tanh, epochs=20000, l2=0.001, layers=[19, 20, 2], learning_rate=0.1; total time=   1.3s\n",
      "[CV] END activation=tanh, epochs=20000, l2=0.001, layers=[19, 20, 2], learning_rate=0.1; total time=   1.3s\n",
      "[CV] END activation=tanh, epochs=20000, l2=0.001, layers=[19, 20, 2], learning_rate=0.1; total time=   1.3s\n",
      "[CV] END activation=tanh, epochs=20000, l2=0, layers=[19, 30, 20, 2], learning_rate=0.01; total time=   1.3s\n",
      "[CV] END activation=tanh, epochs=20000, l2=0, layers=[19, 30, 20, 2], learning_rate=0.01; total time=   1.3s\n",
      "[CV] END activation=tanh, epochs=20000, l2=0, layers=[19, 30, 20, 2], learning_rate=0.01; total time=   1.3s\n",
      "[CV] END activation=tanh, epochs=20000, l2=0, layers=[19, 30, 20, 2], learning_rate=0.01; total time=   1.4s\n",
      "[CV] END activation=tanh, epochs=20000, l2=0, layers=[19, 30, 20, 2], learning_rate=0.01; total time=   1.3s\n",
      "[CV] END activation=tanh, epochs=20000, l2=0, layers=[19, 30, 20, 2], learning_rate=0.05; total time=   1.4s\n",
      "[CV] END activation=tanh, epochs=20000, l2=0, layers=[19, 30, 20, 2], learning_rate=0.05; total time=   1.4s\n",
      "[CV] END activation=tanh, epochs=20000, l2=0, layers=[19, 30, 20, 2], learning_rate=0.05; total time=   1.3s\n",
      "[CV] END activation=tanh, epochs=20000, l2=0, layers=[19, 30, 20, 2], learning_rate=0.05; total time=   1.3s\n",
      "[CV] END activation=tanh, epochs=20000, l2=0, layers=[19, 30, 20, 2], learning_rate=0.05; total time=   1.3s\n",
      "[CV] END activation=tanh, epochs=20000, l2=0, layers=[19, 30, 20, 2], learning_rate=0.1; total time=   1.3s\n",
      "[CV] END activation=tanh, epochs=20000, l2=0, layers=[19, 30, 20, 2], learning_rate=0.1; total time=   1.3s\n",
      "[CV] END activation=tanh, epochs=20000, l2=0, layers=[19, 30, 20, 2], learning_rate=0.1; total time=   1.4s\n",
      "[CV] END activation=tanh, epochs=20000, l2=0, layers=[19, 30, 20, 2], learning_rate=0.1; total time=   1.3s\n",
      "[CV] END activation=tanh, epochs=20000, l2=0, layers=[19, 30, 20, 2], learning_rate=0.1; total time=   1.3s\n",
      "[CV] END activation=tanh, epochs=20000, l2=0, layers=[19, 300, 100, 2], learning_rate=0.01; total time=   1.3s\n"
     ]
    },
    {
     "name": "stdout",
     "output_type": "stream",
     "text": [
      "[CV] END activation=tanh, epochs=20000, l2=0, layers=[19, 300, 100, 2], learning_rate=0.01; total time=   1.4s\n",
      "[CV] END activation=tanh, epochs=20000, l2=0, layers=[19, 300, 100, 2], learning_rate=0.01; total time=   1.3s\n",
      "[CV] END activation=tanh, epochs=20000, l2=0, layers=[19, 300, 100, 2], learning_rate=0.01; total time=   1.3s\n",
      "[CV] END activation=tanh, epochs=20000, l2=0, layers=[19, 300, 100, 2], learning_rate=0.01; total time=   1.4s\n",
      "[CV] END activation=tanh, epochs=20000, l2=0, layers=[19, 300, 100, 2], learning_rate=0.05; total time=   1.3s\n",
      "[CV] END activation=tanh, epochs=20000, l2=0, layers=[19, 300, 100, 2], learning_rate=0.05; total time=   1.3s\n",
      "[CV] END activation=tanh, epochs=20000, l2=0, layers=[19, 300, 100, 2], learning_rate=0.05; total time=   1.4s\n",
      "[CV] END activation=tanh, epochs=20000, l2=0, layers=[19, 300, 100, 2], learning_rate=0.05; total time=   1.3s\n",
      "[CV] END activation=tanh, epochs=20000, l2=0, layers=[19, 300, 100, 2], learning_rate=0.05; total time=   1.4s\n",
      "[CV] END activation=tanh, epochs=20000, l2=0, layers=[19, 300, 100, 2], learning_rate=0.1; total time=   1.3s\n",
      "[CV] END activation=tanh, epochs=20000, l2=0, layers=[19, 300, 100, 2], learning_rate=0.1; total time=   1.3s\n",
      "[CV] END activation=tanh, epochs=20000, l2=0, layers=[19, 300, 100, 2], learning_rate=0.1; total time=   1.3s\n",
      "[CV] END activation=tanh, epochs=20000, l2=0, layers=[19, 300, 100, 2], learning_rate=0.1; total time=   1.3s\n",
      "[CV] END activation=tanh, epochs=20000, l2=0, layers=[19, 300, 100, 2], learning_rate=0.1; total time=   1.3s\n",
      "[CV] END activation=tanh, epochs=20000, l2=0, layers=[19, 20, 2], learning_rate=0.01; total time=   1.3s\n",
      "[CV] END activation=tanh, epochs=20000, l2=0, layers=[19, 20, 2], learning_rate=0.01; total time=   1.3s\n",
      "[CV] END activation=tanh, epochs=20000, l2=0, layers=[19, 20, 2], learning_rate=0.01; total time=   1.3s\n",
      "[CV] END activation=tanh, epochs=20000, l2=0, layers=[19, 20, 2], learning_rate=0.01; total time=   1.3s\n",
      "[CV] END activation=tanh, epochs=20000, l2=0, layers=[19, 20, 2], learning_rate=0.01; total time=   1.3s\n",
      "[CV] END activation=tanh, epochs=20000, l2=0, layers=[19, 20, 2], learning_rate=0.05; total time=   1.3s\n",
      "[CV] END activation=tanh, epochs=20000, l2=0, layers=[19, 20, 2], learning_rate=0.05; total time=   1.3s\n",
      "[CV] END activation=tanh, epochs=20000, l2=0, layers=[19, 20, 2], learning_rate=0.05; total time=   1.3s\n",
      "[CV] END activation=tanh, epochs=20000, l2=0, layers=[19, 20, 2], learning_rate=0.05; total time=   1.3s\n",
      "[CV] END activation=tanh, epochs=20000, l2=0, layers=[19, 20, 2], learning_rate=0.05; total time=   1.3s\n",
      "[CV] END activation=tanh, epochs=20000, l2=0, layers=[19, 20, 2], learning_rate=0.1; total time=   1.3s\n",
      "[CV] END activation=tanh, epochs=20000, l2=0, layers=[19, 20, 2], learning_rate=0.1; total time=   1.3s\n",
      "[CV] END activation=tanh, epochs=20000, l2=0, layers=[19, 20, 2], learning_rate=0.1; total time=   1.3s\n",
      "[CV] END activation=tanh, epochs=20000, l2=0, layers=[19, 20, 2], learning_rate=0.1; total time=   1.3s\n",
      "[CV] END activation=tanh, epochs=20000, l2=0, layers=[19, 20, 2], learning_rate=0.1; total time=   1.4s\n"
     ]
    },
    {
     "data": {
      "text/plain": [
       "GridSearchCV(cv=5, estimator=PerceptronClassifier(l2=0),\n",
       "             param_grid={'activation': ['sigmoid', 'tanh'],\n",
       "                         'epochs': [80000, 20000], 'l2': [0.0001, 0.001, 0],\n",
       "                         'layers': [[19, 30, 20, 2], [19, 300, 100, 2],\n",
       "                                    [19, 20, 2]],\n",
       "                         'learning_rate': [0.01, 0.05, 0.1]},\n",
       "             return_train_score=True, verbose=2)"
      ]
     },
     "execution_count": 27,
     "metadata": {},
     "output_type": "execute_result"
    }
   ],
   "source": [
    "# Set up the parameter grid to seaerch\n",
    "from sklearn.model_selection import GridSearchCV\n",
    "param_grid ={'layers': [[19,30,20,2],[19,300,100,2], [19,20,2]], \\\n",
    "             'activation': ['sigmoid','tanh'], \\\n",
    "             'learning_rate': [0.01,0.05,0.1],\n",
    "            'epochs':[80000,20000],\n",
    "             'l2':[0.0001,0.001,0]\n",
    "            }\n",
    "\n",
    "# Perform the search\n",
    "my_tuned_MLP = GridSearchCV(PerceptronClassifier(), \\\n",
    "                                param_grid, cv=5,verbose = 2, \\\n",
    "                            return_train_score=True)\n",
    "my_tuned_MLP.fit(X_train,y_train)"
   ]
  },
  {
   "cell_type": "code",
   "execution_count": 28,
   "metadata": {},
   "outputs": [
    {
     "name": "stdout",
     "output_type": "stream",
     "text": [
      "Best parameters set found on development set:\n"
     ]
    },
    {
     "data": {
      "text/plain": [
       "{'activation': 'sigmoid',\n",
       " 'epochs': 80000,\n",
       " 'l2': 0.001,\n",
       " 'layers': [19, 300, 100, 2],\n",
       " 'learning_rate': 0.01}"
      ]
     },
     "metadata": {},
     "output_type": "display_data"
    }
   ],
   "source": [
    "# Print details\n",
    "print(\"Best parameters set found on development set:\")\n",
    "display(my_tuned_MLP.best_params_)\n",
    "\n",
    "# display(my_tuned_MLP.best_score_)\n",
    "# display(my_tuned_MLP.cv_results_)"
   ]
  },
  {
   "cell_type": "markdown",
   "metadata": {},
   "source": [
    "Make a set of predictions for the training data"
   ]
  },
  {
   "cell_type": "code",
   "execution_count": 29,
   "metadata": {},
   "outputs": [],
   "source": [
    "y_pred = my_tuned_MLP.predict(X_train)\n",
    "accuracy = metrics.accuracy_score(y_train, y_pred)"
   ]
  },
  {
   "cell_type": "code",
   "execution_count": 30,
   "metadata": {},
   "outputs": [
    {
     "name": "stdout",
     "output_type": "stream",
     "text": [
      "Accuracy: 0.7403726708074534\n",
      "              precision    recall  f1-score   support\n",
      "\n",
      "           0       0.74      0.70      0.72       378\n",
      "           1       0.74      0.78      0.76       427\n",
      "\n",
      "   micro avg       0.74      0.74      0.74       805\n",
      "   macro avg       0.74      0.74      0.74       805\n",
      "weighted avg       0.74      0.74      0.74       805\n",
      " samples avg       0.74      0.74      0.74       805\n",
      "\n"
     ]
    }
   ],
   "source": [
    "print(\"Accuracy: \" +  str(accuracy))\n",
    "print(metrics.classification_report(y_train, y_pred))"
   ]
  },
  {
   "cell_type": "markdown",
   "metadata": {},
   "source": [
    "Make a set of predictions for the test data"
   ]
  },
  {
   "cell_type": "code",
   "execution_count": 31,
   "metadata": {},
   "outputs": [],
   "source": [
    "y_pred = my_tuned_MLP.predict(X_test)\n",
    "accuracy = metrics.accuracy_score(y_test, y_pred)"
   ]
  },
  {
   "cell_type": "code",
   "execution_count": 32,
   "metadata": {},
   "outputs": [
    {
     "name": "stdout",
     "output_type": "stream",
     "text": [
      "Accuracy: 0.7138728323699421\n",
      "              precision    recall  f1-score   support\n",
      "\n",
      "           0       0.71      0.66      0.68       162\n",
      "           1       0.72      0.76      0.74       184\n",
      "\n",
      "   micro avg       0.71      0.71      0.71       346\n",
      "   macro avg       0.71      0.71      0.71       346\n",
      "weighted avg       0.71      0.71      0.71       346\n",
      " samples avg       0.71      0.71      0.71       346\n",
      "\n"
     ]
    }
   ],
   "source": [
    "print(\"Accuracy: \" +  str(accuracy))\n",
    "print(metrics.classification_report(y_test, y_pred))"
   ]
  }
 ],
 "metadata": {
  "kernelspec": {
   "display_name": "Python 3 (ipykernel)",
   "language": "python",
   "name": "python3"
  },
  "language_info": {
   "codemirror_mode": {
    "name": "ipython",
    "version": 3
   },
   "file_extension": ".py",
   "mimetype": "text/x-python",
   "name": "python",
   "nbconvert_exporter": "python",
   "pygments_lexer": "ipython3",
   "version": "3.9.7"
  },
  "toc": {
   "base_numbering": 1,
   "nav_menu": {},
   "number_sections": false,
   "sideBar": true,
   "skip_h1_title": true,
   "title_cell": "Table of Contents",
   "title_sidebar": "Contents",
   "toc_cell": false,
   "toc_position": {},
   "toc_section_display": true,
   "toc_window_display": true
  }
 },
 "nbformat": 4,
 "nbformat_minor": 2
}
